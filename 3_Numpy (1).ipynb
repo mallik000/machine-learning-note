{
 "cells": [
  {
   "cell_type": "markdown",
   "id": "4267a818-819a-4abc-8a4f-edeaee3298c1",
   "metadata": {
    "editable": true,
    "slideshow": {
     "slide_type": ""
    },
    "tags": []
   },
   "source": [
    "# NumPy"
   ]
  },
  {
   "cell_type": "markdown",
   "id": "618fb042-47ee-49d4-9826-10b69fa6da20",
   "metadata": {},
   "source": [
    "#### What Is NumPy ?"
   ]
  },
  {
   "cell_type": "markdown",
   "id": "95c7955c-335b-4d10-8f5d-07b4a11d5114",
   "metadata": {},
   "source": [
    "* Numpy is the core library for scientific and numerical computing in python.\n",
    "* It provides high-performance multidimentional array object and tools for working with arrays.\n",
    "* Numpy's main object it is multidimentional array.\n",
    "* It is table of elements (usually numbers). all of the same type, indexed by a tuple of positive integers.\n",
    "* In Numpy, dimensions are called axes."
   ]
  },
  {
   "cell_type": "markdown",
   "id": "9ac53054-2bfe-4de9-961c-a6d1681e4f09",
   "metadata": {},
   "source": [
    "#### Why NumPy Is Faster Than List :"
   ]
  },
  {
   "cell_type": "markdown",
   "id": "c627bb8d-a1dd-4d4b-9859-134a4d62b8b0",
   "metadata": {},
   "source": [
    "* NumPy arrays are stored at one continuous place in memory unlike lists, so processes can access and manipulate them very efficiently.\n",
    "\n",
    "* This behavior is called locality of reference in computer science.\n",
    "\n",
    "* This is the main reason why NumPy is faster than lists. Also it is optimized to work with latest CPU architectures."
   ]
  },
  {
   "cell_type": "markdown",
   "id": "e86a39eb-1ab1-4c59-821f-947b42f5bb85",
   "metadata": {},
   "source": [
    "<img src = \"list.png\" style=\"width:400px;height:200px\" >, <img src = \"numpy.png\" style=\"width:400px;height:200px\" >"
   ]
  },
  {
   "cell_type": "code",
   "execution_count": 1,
   "id": "2a18a5ed-68f7-4920-a903-6c0b9708d471",
   "metadata": {},
   "outputs": [],
   "source": [
    "# Install NumPy :\n",
    "# pip install numpy"
   ]
  },
  {
   "cell_type": "code",
   "execution_count": 2,
   "id": "76a9e2de-202e-4033-83ab-53bf11537742",
   "metadata": {},
   "outputs": [],
   "source": [
    "# Import Numpy Library :\n",
    "# 1. import numpy \n",
    "# 2. import numpy as np "
   ]
  },
  {
   "cell_type": "code",
   "execution_count": 3,
   "id": "bd4cf3c1-21bc-4b14-9338-27d7ddf54cb0",
   "metadata": {},
   "outputs": [],
   "source": [
    "import numpy as np"
   ]
  },
  {
   "cell_type": "code",
   "execution_count": null,
   "id": "98e609d6-1b16-49da-8b3c-44a9096d4ac5",
   "metadata": {},
   "outputs": [],
   "source": []
  },
  {
   "cell_type": "markdown",
   "id": "efb998f9-5f11-4e2a-92b3-2a4b3f871422",
   "metadata": {},
   "source": [
    "**Create a NumPy Arrays Using array()  Function**"
   ]
  },
  {
   "cell_type": "markdown",
   "id": "bd402c9a",
   "metadata": {},
   "source": [
    "### 1D Array"
   ]
  },
  {
   "cell_type": "code",
   "execution_count": 4,
   "id": "4b67c838-21e1-4833-a0b4-e44b6ea04937",
   "metadata": {},
   "outputs": [
    {
     "name": "stdout",
     "output_type": "stream",
     "text": [
      "[1 2 3]\n"
     ]
    },
    {
     "data": {
      "text/plain": [
       "array([1, 2, 3])"
      ]
     },
     "execution_count": 4,
     "metadata": {},
     "output_type": "execute_result"
    }
   ],
   "source": [
    "a = np.array([1,2,3]) #single list\n",
    "print(a) \n",
    "a"
   ]
  },
  {
   "cell_type": "code",
   "execution_count": 5,
   "id": "0f6da54f",
   "metadata": {},
   "outputs": [
    {
     "data": {
      "text/plain": [
       "array([1, 2, 3, 4, 5])"
      ]
     },
     "execution_count": 5,
     "metadata": {},
     "output_type": "execute_result"
    }
   ],
   "source": [
    "array_1d = np.array([1,2,3,4,5])\n",
    "array_1d"
   ]
  },
  {
   "cell_type": "code",
   "execution_count": 6,
   "id": "ae62fff3",
   "metadata": {},
   "outputs": [
    {
     "data": {
      "text/plain": [
       "1"
      ]
     },
     "execution_count": 6,
     "metadata": {},
     "output_type": "execute_result"
    }
   ],
   "source": [
    "#use ndim to get the dimention of array\n",
    "array_1d.ndim "
   ]
  },
  {
   "cell_type": "code",
   "execution_count": 7,
   "id": "09a6ea23",
   "metadata": {},
   "outputs": [],
   "source": [
    "# find array type\n"
   ]
  },
  {
   "cell_type": "code",
   "execution_count": 8,
   "id": "f83eeb1a",
   "metadata": {},
   "outputs": [
    {
     "name": "stdout",
     "output_type": "stream",
     "text": [
      "<class 'numpy.ndarray'>\n"
     ]
    }
   ],
   "source": [
    "# type() function : to find the type of array \n",
    "print(type(array_1d))"
   ]
  },
  {
   "cell_type": "code",
   "execution_count": 9,
   "id": "c7502ac3",
   "metadata": {},
   "outputs": [
    {
     "data": {
      "text/plain": [
       "dtype('int64')"
      ]
     },
     "execution_count": 9,
     "metadata": {},
     "output_type": "execute_result"
    }
   ],
   "source": [
    "# .dtype : to find the data type of array\n",
    "array_1d.dtype"
   ]
  },
  {
   "cell_type": "code",
   "execution_count": 10,
   "id": "5ad1971f",
   "metadata": {},
   "outputs": [
    {
     "data": {
      "text/plain": [
       "(5,)"
      ]
     },
     "execution_count": 10,
     "metadata": {},
     "output_type": "execute_result"
    }
   ],
   "source": [
    "# .shape : to see the shape \n",
    "array_1d.shape"
   ]
  },
  {
   "cell_type": "code",
   "execution_count": 11,
   "id": "f9cbcaa1",
   "metadata": {},
   "outputs": [
    {
     "data": {
      "text/plain": [
       "5"
      ]
     },
     "execution_count": 11,
     "metadata": {},
     "output_type": "execute_result"
    }
   ],
   "source": [
    "# .size : to find how much elements in array\n",
    "\n",
    "array_1d.size"
   ]
  },
  {
   "cell_type": "markdown",
   "id": "f660938f",
   "metadata": {},
   "source": [
    "### 2D Array"
   ]
  },
  {
   "cell_type": "code",
   "execution_count": 12,
   "id": "7d1a3838",
   "metadata": {},
   "outputs": [
    {
     "data": {
      "text/plain": [
       "array([[1, 2, 3],\n",
       "       [1, 2, 3],\n",
       "       [1, 2, 3]])"
      ]
     },
     "execution_count": 12,
     "metadata": {},
     "output_type": "execute_result"
    }
   ],
   "source": [
    "a = np.array([\n",
    " [1,2,3],\n",
    " [1,2,3],\n",
    " [1,2,3]\n",
    "]) #list of list\n",
    "a "
   ]
  },
  {
   "cell_type": "code",
   "execution_count": 13,
   "id": "a97f9795-6dcf-42bf-b3aa-eb8a6d09f8e7",
   "metadata": {},
   "outputs": [
    {
     "data": {
      "text/plain": [
       "((3, 3), 2)"
      ]
     },
     "execution_count": 13,
     "metadata": {},
     "output_type": "execute_result"
    }
   ],
   "source": [
    "a.shape,a.ndim"
   ]
  },
  {
   "cell_type": "code",
   "execution_count": 14,
   "id": "8a53f7e6",
   "metadata": {},
   "outputs": [
    {
     "name": "stdout",
     "output_type": "stream",
     "text": [
      "[[10 20 30 40]\n",
      " [11 22 33 77]\n",
      " [44 55 66 88]]\n"
     ]
    }
   ],
   "source": [
    "#create 2D array\n",
    "array_2d = np.array([\n",
    " [10,20,30,40],[11,22,33,77],[44,55,66,88]\n",
    "])\n",
    "print(array_2d)"
   ]
  },
  {
   "cell_type": "code",
   "execution_count": 15,
   "id": "9590437f",
   "metadata": {},
   "outputs": [
    {
     "data": {
      "text/plain": [
       "2"
      ]
     },
     "execution_count": 15,
     "metadata": {},
     "output_type": "execute_result"
    }
   ],
   "source": [
    "array_2d.ndim"
   ]
  },
  {
   "cell_type": "code",
   "execution_count": 16,
   "id": "69938d1f",
   "metadata": {},
   "outputs": [
    {
     "data": {
      "text/plain": [
       "(3, 4)"
      ]
     },
     "execution_count": 16,
     "metadata": {},
     "output_type": "execute_result"
    }
   ],
   "source": [
    "array_2d.shape  # (row,column)"
   ]
  },
  {
   "cell_type": "code",
   "execution_count": 17,
   "id": "ad448eac",
   "metadata": {},
   "outputs": [
    {
     "data": {
      "text/plain": [
       "12"
      ]
     },
     "execution_count": 17,
     "metadata": {},
     "output_type": "execute_result"
    }
   ],
   "source": [
    "array_2d.size"
   ]
  },
  {
   "cell_type": "markdown",
   "id": "a34b76ba",
   "metadata": {},
   "source": [
    "### 3D Array"
   ]
  },
  {
   "cell_type": "code",
   "execution_count": 18,
   "id": "1c667aba",
   "metadata": {},
   "outputs": [
    {
     "data": {
      "text/plain": [
       "array([[[1, 2, 3],\n",
       "        [1, 2, 3],\n",
       "        [1, 2, 3]],\n",
       "\n",
       "       [[1, 2, 3],\n",
       "        [1, 2, 3],\n",
       "        [1, 2, 3]],\n",
       "\n",
       "       [[1, 2, 3],\n",
       "        [1, 2, 3],\n",
       "        [1, 2, 3]],\n",
       "\n",
       "       [[1, 2, 3],\n",
       "        [1, 2, 3],\n",
       "        [1, 2, 3]]])"
      ]
     },
     "execution_count": 18,
     "metadata": {},
     "output_type": "execute_result"
    }
   ],
   "source": [
    "a = np.array([ [[1,2,3],[1,2,3],[1,2,3]],\n",
    " [[1,2,3],[1,2,3],[1,2,3]],\n",
    " [[1,2,3],[1,2,3],[1,2,3]],\n",
    " [[1,2,3],[1,2,3],[1,2,3]]\n",
    " ])\n",
    "a"
   ]
  },
  {
   "cell_type": "code",
   "execution_count": 19,
   "id": "6ca381d6",
   "metadata": {},
   "outputs": [
    {
     "data": {
      "text/plain": [
       "(4, 3, 3)"
      ]
     },
     "execution_count": 19,
     "metadata": {},
     "output_type": "execute_result"
    }
   ],
   "source": [
    "a.shape   # (nd,row,column)"
   ]
  },
  {
   "cell_type": "code",
   "execution_count": 20,
   "id": "4c19b626",
   "metadata": {},
   "outputs": [
    {
     "data": {
      "text/plain": [
       "36"
      ]
     },
     "execution_count": 20,
     "metadata": {},
     "output_type": "execute_result"
    }
   ],
   "source": [
    "a.size"
   ]
  },
  {
   "cell_type": "code",
   "execution_count": 21,
   "id": "b50b00b8",
   "metadata": {},
   "outputs": [
    {
     "data": {
      "text/plain": [
       "3"
      ]
     },
     "execution_count": 21,
     "metadata": {},
     "output_type": "execute_result"
    }
   ],
   "source": [
    "a.ndim"
   ]
  },
  {
   "cell_type": "code",
   "execution_count": 22,
   "id": "5632515c",
   "metadata": {},
   "outputs": [
    {
     "name": "stdout",
     "output_type": "stream",
     "text": [
      "[[[10 20 30 40]\n",
      "  [11 22 33 77]\n",
      "  [44 55 66 88]]\n",
      "\n",
      " [[10 20 30 40]\n",
      "  [11 22 33 77]\n",
      "  [44 55 66 88]]\n",
      "\n",
      " [[10 20 30 40]\n",
      "  [11 22 33 77]\n",
      "  [44 55 66 88]]]\n"
     ]
    }
   ],
   "source": [
    "array_3d = np.array([\n",
    " [\n",
    " [10,20,30,40],\n",
    " [11,22,33,77],\n",
    " [44,55,66,88],\n",
    " ],\n",
    " [\n",
    " [10,20,30,40],\n",
    " [11,22,33,77],\n",
    " [44,55,66,88],\n",
    " ],\n",
    " [\n",
    " [10,20,30,40],\n",
    " [11,22,33,77],\n",
    " [44,55,66,88],\n",
    " ]\n",
    " \n",
    " \n",
    "])\n",
    "print(array_3d)"
   ]
  },
  {
   "cell_type": "code",
   "execution_count": 23,
   "id": "f00ed4bb",
   "metadata": {},
   "outputs": [
    {
     "data": {
      "text/plain": [
       "3"
      ]
     },
     "execution_count": 23,
     "metadata": {},
     "output_type": "execute_result"
    }
   ],
   "source": [
    "array_3d.ndim"
   ]
  },
  {
   "cell_type": "code",
   "execution_count": 24,
   "id": "610bbd74",
   "metadata": {},
   "outputs": [
    {
     "data": {
      "text/plain": [
       "(3, 3, 4)"
      ]
     },
     "execution_count": 24,
     "metadata": {},
     "output_type": "execute_result"
    }
   ],
   "source": [
    "array_3d.shape"
   ]
  },
  {
   "cell_type": "code",
   "execution_count": 25,
   "id": "39738ffb",
   "metadata": {},
   "outputs": [
    {
     "data": {
      "text/plain": [
       "36"
      ]
     },
     "execution_count": 25,
     "metadata": {},
     "output_type": "execute_result"
    }
   ],
   "source": [
    "array_3d.size"
   ]
  },
  {
   "cell_type": "code",
   "execution_count": 26,
   "id": "66b12ead",
   "metadata": {},
   "outputs": [
    {
     "name": "stdout",
     "output_type": "stream",
     "text": [
      "[[[ 1  2  3  4]\n",
      "  [10 20 30 40]]\n",
      "\n",
      " [[ 5  6  7  8]\n",
      "  [50 60 70 80]]]\n"
     ]
    }
   ],
   "source": [
    "a = np.array([\n",
    "    [\n",
    "    [1,2,3,4],\n",
    "    [10,20,30,40]\n",
    "],\n",
    "    [\n",
    "        [5,6,7,8],\n",
    "        [50,60,70,80]\n",
    "    ]\n",
    "]       )\n",
    "\n",
    "print(a)"
   ]
  },
  {
   "cell_type": "code",
   "execution_count": 27,
   "id": "5af2c99d",
   "metadata": {},
   "outputs": [
    {
     "data": {
      "text/plain": [
       "16"
      ]
     },
     "execution_count": 27,
     "metadata": {},
     "output_type": "execute_result"
    }
   ],
   "source": [
    "a.size"
   ]
  },
  {
   "cell_type": "code",
   "execution_count": 28,
   "id": "60cea88c-2274-4808-94fc-ea8eac945a7e",
   "metadata": {},
   "outputs": [
    {
     "name": "stdout",
     "output_type": "stream",
     "text": [
      "3\n"
     ]
    }
   ],
   "source": [
    "print(a.ndim)"
   ]
  },
  {
   "cell_type": "code",
   "execution_count": 29,
   "id": "ac5def03",
   "metadata": {},
   "outputs": [
    {
     "data": {
      "text/plain": [
       "(2, 2, 4)"
      ]
     },
     "execution_count": 29,
     "metadata": {},
     "output_type": "execute_result"
    }
   ],
   "source": [
    "a.shape"
   ]
  },
  {
   "cell_type": "markdown",
   "id": "93032b07",
   "metadata": {},
   "source": [
    "### Create ones matrix"
   ]
  },
  {
   "cell_type": "markdown",
   "id": "1378ca23-3aa2-428a-acf7-753519bca14a",
   "metadata": {},
   "source": [
    "* ones() function is used to create a new array of given shape and type, filled with ones."
   ]
  },
  {
   "cell_type": "code",
   "execution_count": 30,
   "id": "19087d9d",
   "metadata": {},
   "outputs": [
    {
     "name": "stdout",
     "output_type": "stream",
     "text": [
      "[1. 1. 1. 1. 1.]\n"
     ]
    }
   ],
   "source": [
    "ones_array = np.ones(5)\n",
    "print(ones_array)"
   ]
  },
  {
   "cell_type": "code",
   "execution_count": 31,
   "id": "9710dd43",
   "metadata": {},
   "outputs": [
    {
     "data": {
      "text/plain": [
       "1"
      ]
     },
     "execution_count": 31,
     "metadata": {},
     "output_type": "execute_result"
    }
   ],
   "source": [
    "ones_array.ndim"
   ]
  },
  {
   "cell_type": "code",
   "execution_count": 32,
   "id": "7773bbbe",
   "metadata": {},
   "outputs": [
    {
     "data": {
      "text/plain": [
       "dtype('float64')"
      ]
     },
     "execution_count": 32,
     "metadata": {},
     "output_type": "execute_result"
    }
   ],
   "source": [
    "ones_array.dtype"
   ]
  },
  {
   "cell_type": "code",
   "execution_count": 33,
   "id": "b4d4d863",
   "metadata": {},
   "outputs": [
    {
     "name": "stdout",
     "output_type": "stream",
     "text": [
      "[[1 1 1 1]\n",
      " [1 1 1 1]\n",
      " [1 1 1 1]]\n"
     ]
    }
   ],
   "source": [
    "#2D ones matrix\n",
    "ones_2dmx = np.ones((3,4), dtype='int')\n",
    "print(ones_2dmx)"
   ]
  },
  {
   "cell_type": "code",
   "execution_count": 34,
   "id": "8a062835",
   "metadata": {
    "scrolled": true
   },
   "outputs": [
    {
     "name": "stdout",
     "output_type": "stream",
     "text": [
      "[[['1' '1' '1' '1']\n",
      "  ['1' '1' '1' '1']\n",
      "  ['1' '1' '1' '1']]\n",
      "\n",
      " [['1' '1' '1' '1']\n",
      "  ['1' '1' '1' '1']\n",
      "  ['1' '1' '1' '1']]\n",
      "\n",
      " [['1' '1' '1' '1']\n",
      "  ['1' '1' '1' '1']\n",
      "  ['1' '1' '1' '1']]\n",
      "\n",
      " [['1' '1' '1' '1']\n",
      "  ['1' '1' '1' '1']\n",
      "  ['1' '1' '1' '1']]]\n"
     ]
    }
   ],
   "source": [
    "ones_3dmx = np.ones((4,3,4), dtype='str')\n",
    "print(ones_3dmx)\n"
   ]
  },
  {
   "cell_type": "code",
   "execution_count": 35,
   "id": "404d748b-33d2-4e5b-b8ca-8af5eb61a380",
   "metadata": {},
   "outputs": [
    {
     "data": {
      "text/plain": [
       "(4, 3, 4)"
      ]
     },
     "execution_count": 35,
     "metadata": {},
     "output_type": "execute_result"
    }
   ],
   "source": [
    "ones_3dmx.shape"
   ]
  },
  {
   "cell_type": "code",
   "execution_count": 36,
   "id": "e2c53e7f-6632-4e01-860e-5170ddcdf498",
   "metadata": {},
   "outputs": [
    {
     "data": {
      "text/plain": [
       "3"
      ]
     },
     "execution_count": 36,
     "metadata": {},
     "output_type": "execute_result"
    }
   ],
   "source": [
    "ones_3dmx.ndim"
   ]
  },
  {
   "cell_type": "markdown",
   "id": "a294dace",
   "metadata": {},
   "source": [
    "### Create a zeros matrix"
   ]
  },
  {
   "cell_type": "markdown",
   "id": "5a46ec04-a58e-4934-ad58-ea7f988f53c4",
   "metadata": {},
   "source": [
    "*  zeros() function returns an array with the given shape and data type filled with zeros."
   ]
  },
  {
   "cell_type": "code",
   "execution_count": 37,
   "id": "6e6c004c",
   "metadata": {},
   "outputs": [
    {
     "name": "stdout",
     "output_type": "stream",
     "text": [
      "[[['' '' '' '']\n",
      "  ['' '' '' '']\n",
      "  ['' '' '' '']]\n",
      "\n",
      " [['' '' '' '']\n",
      "  ['' '' '' '']\n",
      "  ['' '' '' '']]\n",
      "\n",
      " [['' '' '' '']\n",
      "  ['' '' '' '']\n",
      "  ['' '' '' '']]]\n"
     ]
    }
   ],
   "source": [
    "zeros_mx = np.zeros((3,3,4), dtype='str')\n",
    "print(zeros_mx)"
   ]
  },
  {
   "cell_type": "code",
   "execution_count": 38,
   "id": "b1b62ebb",
   "metadata": {
    "editable": true,
    "slideshow": {
     "slide_type": ""
    },
    "tags": []
   },
   "outputs": [
    {
     "name": "stdout",
     "output_type": "stream",
     "text": [
      "[[0 0 0 0]\n",
      " [0 0 0 0]\n",
      " [0 0 0 0]\n",
      " [0 0 0 0]]\n"
     ]
    }
   ],
   "source": [
    "zeros_mx = np.zeros((4,4), dtype='int')\n",
    "print(zeros_mx)"
   ]
  },
  {
   "cell_type": "code",
   "execution_count": 39,
   "id": "0c03d9a7",
   "metadata": {
    "editable": true,
    "slideshow": {
     "slide_type": ""
    },
    "tags": []
   },
   "outputs": [
    {
     "name": "stdout",
     "output_type": "stream",
     "text": [
      "[[False False False False]\n",
      " [False False False False]\n",
      " [False False False False]\n",
      " [False False False False]]\n"
     ]
    }
   ],
   "source": [
    "zeros_mx = np.zeros((4,4), dtype=bool)\n",
    "print(zeros_mx)"
   ]
  },
  {
   "cell_type": "markdown",
   "id": "6e5eb770",
   "metadata": {},
   "source": [
    "### arange() function"
   ]
  },
  {
   "cell_type": "markdown",
   "id": "5ffee8b9-42ee-4f87-a0b5-19611c5bf69a",
   "metadata": {},
   "source": [
    "* This function generates a sequence of numbers within the specified range, which can be incredibly useful in data analysis and scientific computing\n",
    "  "
   ]
  },
  {
   "cell_type": "code",
   "execution_count": 40,
   "id": "ee9f019f",
   "metadata": {},
   "outputs": [
    {
     "name": "stdout",
     "output_type": "stream",
     "text": [
      "[0 1 2 3 4]\n"
     ]
    },
    {
     "data": {
      "text/plain": [
       "1"
      ]
     },
     "execution_count": 40,
     "metadata": {},
     "output_type": "execute_result"
    }
   ],
   "source": [
    "#synatx : arange(start, stop, step,  dtype=None)\n",
    "#         reshape(number of metrix, row , column )\n",
    "\n",
    "Range = np.arange(5).reshape(5)  #np.arange(range of elements) . \n",
    "print(Range)\n",
    "Range.ndim"
   ]
  },
  {
   "cell_type": "code",
   "execution_count": 41,
   "id": "31315364-52b0-41d0-a6fa-1c556460fc4b",
   "metadata": {
    "jp-MarkdownHeadingCollapsed": true
   },
   "outputs": [
    {
     "name": "stdout",
     "output_type": "stream",
     "text": [
      "[[ 2  4]\n",
      " [ 6  8]\n",
      " [10 12]\n",
      " [14 16]\n",
      " [18 20]]\n"
     ]
    },
    {
     "data": {
      "text/plain": [
       "2"
      ]
     },
     "execution_count": 41,
     "metadata": {},
     "output_type": "execute_result"
    }
   ],
   "source": [
    "Range = np.arange(2,21,2).reshape(5,2) \n",
    "print(Range)\n",
    "Range.ndim"
   ]
  },
  {
   "cell_type": "code",
   "execution_count": 42,
   "id": "a8b82a49-62cd-40a2-bc3c-1360c9ca9733",
   "metadata": {},
   "outputs": [
    {
     "data": {
      "text/plain": [
       "(5, 2)"
      ]
     },
     "execution_count": 42,
     "metadata": {},
     "output_type": "execute_result"
    }
   ],
   "source": [
    "Range.shape"
   ]
  },
  {
   "cell_type": "code",
   "execution_count": 43,
   "id": "26511285-0bfe-4a0a-9444-d46a38e45ba0",
   "metadata": {},
   "outputs": [
    {
     "name": "stdout",
     "output_type": "stream",
     "text": [
      "[[[ 0  1  2  3  4]\n",
      "  [ 5  6  7  8  9]]\n",
      "\n",
      " [[10 11 12 13 14]\n",
      "  [15 16 17 18 19]]]\n"
     ]
    },
    {
     "data": {
      "text/plain": [
       "3"
      ]
     },
     "execution_count": 43,
     "metadata": {},
     "output_type": "execute_result"
    }
   ],
   "source": [
    "Range = np.arange(20).reshape(2,2,5)\n",
    "print(Range)\n",
    "Range.ndim"
   ]
  },
  {
   "cell_type": "markdown",
   "id": "09397529",
   "metadata": {},
   "source": [
    "# linespace()"
   ]
  },
  {
   "cell_type": "markdown",
   "id": "43e2b99e-2318-4e87-8e71-ff04ae6ca726",
   "metadata": {},
   "source": [
    "*  linspace() function is used to create an array of evenly spaced numbers within a specified range. \n",
    "*  The range is defined by the start and end points of the sequence, and the number of evenly spaced points to be generated between them."
   ]
  },
  {
   "cell_type": "code",
   "execution_count": 44,
   "id": "fbeef7ee",
   "metadata": {},
   "outputs": [
    {
     "name": "stdout",
     "output_type": "stream",
     "text": [
      "(array([1. , 2.8, 4.6, 6.4, 8.2]), np.float64(1.8))\n"
     ]
    }
   ],
   "source": [
    "# Syntax : np.linspace(start,stop,num=50,endpoint=True,\n",
    "# retstep=False,dtype=None,axis=0)\n",
    " \n",
    "Linesp = np.linspace(1,10,5 ,retstep=True, endpoint=False, axis=0)    #retstep for Difference between 2 points \n",
    "print(Linesp)"
   ]
  },
  {
   "cell_type": "code",
   "execution_count": 45,
   "id": "8527ded3",
   "metadata": {},
   "outputs": [
    {
     "name": "stdout",
     "output_type": "stream",
     "text": [
      "[ 1.  2.  3.  4.  5.  6.  7.  8.  9. 10.]\n"
     ]
    }
   ],
   "source": [
    "Linesp = np.linspace(1,10,10, endpoint=True )  #endpoint true for get last given point \n",
    "print(Linesp)"
   ]
  },
  {
   "cell_type": "code",
   "execution_count": 46,
   "id": "54c25ad9",
   "metadata": {},
   "outputs": [
    {
     "name": "stdout",
     "output_type": "stream",
     "text": [
      "(array([1. , 1.9, 2.8, 3.7, 4.6, 5.5, 6.4, 7.3, 8.2, 9.1]), np.float64(0.9))\n"
     ]
    }
   ],
   "source": [
    "Linesp = np.linspace(1,10,10, endpoint=False, retstep=True)\n",
    "print(Linesp)"
   ]
  },
  {
   "cell_type": "markdown",
   "id": "d60ffc9a",
   "metadata": {},
   "source": [
    "### reshape()"
   ]
  },
  {
   "cell_type": "markdown",
   "id": "b6c8acff-d39b-4077-bcbe-d3717b76c961",
   "metadata": {},
   "source": [
    "* Reshaping means changing the shape of an array.\n",
    "\n",
    "* The shape of an array is the number of elements in each dimension.\n",
    "\n",
    "* By reshaping we can add or remove dimensions or change number of elements in each dimension."
   ]
  },
  {
   "cell_type": "code",
   "execution_count": 47,
   "id": "a4a4040c",
   "metadata": {},
   "outputs": [
    {
     "name": "stdout",
     "output_type": "stream",
     "text": [
      "[1 2 3 4 5 6 7 8]\n"
     ]
    },
    {
     "data": {
      "text/plain": [
       "1"
      ]
     },
     "execution_count": 47,
     "metadata": {},
     "output_type": "execute_result"
    }
   ],
   "source": [
    "# np.reshape(a, newshape,)\n",
    "array_1d = np.array([1,2,3,4,5,6,7,8])\n",
    "print(array_1d)\n",
    "array_1d.ndim"
   ]
  },
  {
   "cell_type": "code",
   "execution_count": 48,
   "id": "7a96e3aa",
   "metadata": {},
   "outputs": [
    {
     "name": "stdout",
     "output_type": "stream",
     "text": [
      "[[1 2 3 4]\n",
      " [5 6 7 8]]\n"
     ]
    },
    {
     "data": {
      "text/plain": [
       "2"
      ]
     },
     "execution_count": 48,
     "metadata": {},
     "output_type": "execute_result"
    }
   ],
   "source": [
    "Reshape2d = array_1d.reshape(2,4)\n",
    "print(Reshape2d)\n",
    "Reshape2d.ndim"
   ]
  },
  {
   "cell_type": "code",
   "execution_count": 49,
   "id": "2567a995",
   "metadata": {},
   "outputs": [
    {
     "name": "stdout",
     "output_type": "stream",
     "text": [
      "[[[1]\n",
      "  [2]\n",
      "  [3]\n",
      "  [4]\n",
      "  [5]\n",
      "  [6]\n",
      "  [7]\n",
      "  [8]]]\n"
     ]
    },
    {
     "data": {
      "text/plain": [
       "3"
      ]
     },
     "execution_count": 49,
     "metadata": {},
     "output_type": "execute_result"
    }
   ],
   "source": [
    "Reshape3d = array_1d.reshape(1,8,1) #for layer 1\n",
    "print(Reshape3d)\n",
    "Reshape3d.ndim"
   ]
  },
  {
   "cell_type": "code",
   "execution_count": 50,
   "id": "55490128",
   "metadata": {},
   "outputs": [
    {
     "name": "stdout",
     "output_type": "stream",
     "text": [
      "[[[1 2 3 4]]\n",
      "\n",
      " [[5 6 7 8]]]\n"
     ]
    },
    {
     "data": {
      "text/plain": [
       "3"
      ]
     },
     "execution_count": 50,
     "metadata": {},
     "output_type": "execute_result"
    }
   ],
   "source": [
    "Reshape3d = array_1d.reshape(2,1,4) #for layer 2\n",
    "print(Reshape3d)\n",
    "Reshape3d.ndim"
   ]
  },
  {
   "cell_type": "code",
   "execution_count": 51,
   "id": "c752dcbf",
   "metadata": {},
   "outputs": [
    {
     "name": "stdout",
     "output_type": "stream",
     "text": [
      "[[1 2 3]\n",
      " [4 5 6]\n",
      " [7 8 9]]\n"
     ]
    },
    {
     "data": {
      "text/plain": [
       "2"
      ]
     },
     "execution_count": 51,
     "metadata": {},
     "output_type": "execute_result"
    }
   ],
   "source": [
    "#use arange function with reshape or viceversa\n",
    "Reshape1 = np.arange(1,10).reshape(3,3)\n",
    "print(Reshape1)\n",
    "Reshape1.ndim"
   ]
  },
  {
   "cell_type": "code",
   "execution_count": 52,
   "id": "572a4307",
   "metadata": {},
   "outputs": [
    {
     "name": "stdout",
     "output_type": "stream",
     "text": [
      "[[[1 2 3]\n",
      "  [4 5 6]\n",
      "  [7 8 9]]]\n"
     ]
    },
    {
     "data": {
      "text/plain": [
       "3"
      ]
     },
     "execution_count": 52,
     "metadata": {},
     "output_type": "execute_result"
    }
   ],
   "source": [
    "Reshape1 = np.arange(1,10).reshape(1,3,3)\n",
    "print(Reshape1)\n",
    "Reshape1.ndim"
   ]
  },
  {
   "cell_type": "code",
   "execution_count": 53,
   "id": "d0a9ae1e",
   "metadata": {
    "scrolled": true
   },
   "outputs": [
    {
     "name": "stdout",
     "output_type": "stream",
     "text": [
      "[[[ 1  2  3]\n",
      "  [ 4  5  6]\n",
      "  [ 7  8  9]]\n",
      "\n",
      " [[10 11 12]\n",
      "  [13 14 15]\n",
      "  [16 17 18]]\n",
      "\n",
      " [[19 20 21]\n",
      "  [22 23 24]\n",
      "  [25 26 27]]]\n",
      "3\n"
     ]
    }
   ],
   "source": [
    "Reshape1 = np.arange(1,28).reshape(3,3,3)\n",
    "print(Reshape1)\n",
    "print(Reshape1.ndim)"
   ]
  },
  {
   "cell_type": "markdown",
   "id": "6cddf135",
   "metadata": {},
   "source": [
    "### ravel()"
   ]
  },
  {
   "cell_type": "code",
   "execution_count": 54,
   "id": "d9a4998a",
   "metadata": {},
   "outputs": [
    {
     "data": {
      "text/plain": [
       "array([[[ 1,  2,  3],\n",
       "        [ 4,  5,  6],\n",
       "        [ 7,  8,  9]],\n",
       "\n",
       "       [[10, 11, 12],\n",
       "        [13, 14, 15],\n",
       "        [16, 17, 18]],\n",
       "\n",
       "       [[19, 20, 21],\n",
       "        [22, 23, 24],\n",
       "        [25, 26, 27]]])"
      ]
     },
     "execution_count": 54,
     "metadata": {},
     "output_type": "execute_result"
    }
   ],
   "source": [
    "Reshape1"
   ]
  },
  {
   "cell_type": "code",
   "execution_count": 55,
   "id": "16842d49",
   "metadata": {},
   "outputs": [
    {
     "data": {
      "text/plain": [
       "array([ 1,  2,  3,  4,  5,  6,  7,  8,  9, 10, 11, 12, 13, 14, 15, 16, 17,\n",
       "       18, 19, 20, 21, 22, 23, 24, 25, 26, 27])"
      ]
     },
     "execution_count": 55,
     "metadata": {},
     "output_type": "execute_result"
    }
   ],
   "source": [
    "#convert multidimesnioanl array in one dimesnioanl\n",
    "Reshape1.ravel()"
   ]
  },
  {
   "cell_type": "markdown",
   "id": "1152c463",
   "metadata": {},
   "source": [
    "### flatten()"
   ]
  },
  {
   "cell_type": "code",
   "execution_count": 56,
   "id": "da25c1f3",
   "metadata": {},
   "outputs": [
    {
     "data": {
      "text/plain": [
       "array([ 1,  2,  3,  4,  5,  6,  7,  8,  9, 10, 11, 12, 13, 14, 15, 16, 17,\n",
       "       18, 19, 20, 21, 22, 23, 24, 25, 26, 27])"
      ]
     },
     "execution_count": 56,
     "metadata": {},
     "output_type": "execute_result"
    }
   ],
   "source": [
    "Reshape1.flatten()"
   ]
  },
  {
   "cell_type": "code",
   "execution_count": 57,
   "id": "0e54da65",
   "metadata": {},
   "outputs": [
    {
     "data": {
      "text/plain": [
       "array([ 1, 10, 19,  4, 13, 22,  7, 16, 25,  2, 11, 20,  5, 14, 23,  8, 17,\n",
       "       26,  3, 12, 21,  6, 15, 24,  9, 18, 27])"
      ]
     },
     "execution_count": 57,
     "metadata": {},
     "output_type": "execute_result"
    }
   ],
   "source": [
    "Reshape1.flatten(order='f')"
   ]
  },
  {
   "cell_type": "code",
   "execution_count": 58,
   "id": "2dc9a0af",
   "metadata": {},
   "outputs": [
    {
     "data": {
      "text/plain": [
       "array([ 1,  2,  3,  4,  5,  6,  7,  8,  9, 10, 11, 12, 13, 14, 15, 16, 17,\n",
       "       18, 19, 20, 21, 22, 23, 24, 25, 26, 27])"
      ]
     },
     "execution_count": 58,
     "metadata": {},
     "output_type": "execute_result"
    }
   ],
   "source": [
    "Reshape1.flatten(order='K')"
   ]
  },
  {
   "cell_type": "markdown",
   "id": "31f4ddb6",
   "metadata": {},
   "source": [
    "### transpose()"
   ]
  },
  {
   "cell_type": "code",
   "execution_count": 59,
   "id": "c5786f14",
   "metadata": {},
   "outputs": [
    {
     "data": {
      "text/plain": [
       "array([[[ 1,  2,  3],\n",
       "        [ 4,  5,  6],\n",
       "        [ 7,  8,  9]],\n",
       "\n",
       "       [[10, 11, 12],\n",
       "        [13, 14, 15],\n",
       "        [16, 17, 18]],\n",
       "\n",
       "       [[19, 20, 21],\n",
       "        [22, 23, 24],\n",
       "        [25, 26, 27]]])"
      ]
     },
     "execution_count": 59,
     "metadata": {},
     "output_type": "execute_result"
    }
   ],
   "source": [
    "Reshape1"
   ]
  },
  {
   "cell_type": "code",
   "execution_count": 60,
   "id": "48db6291",
   "metadata": {
    "scrolled": true
   },
   "outputs": [
    {
     "data": {
      "text/plain": [
       "array([[[ 1, 10, 19],\n",
       "        [ 4, 13, 22],\n",
       "        [ 7, 16, 25]],\n",
       "\n",
       "       [[ 2, 11, 20],\n",
       "        [ 5, 14, 23],\n",
       "        [ 8, 17, 26]],\n",
       "\n",
       "       [[ 3, 12, 21],\n",
       "        [ 6, 15, 24],\n",
       "        [ 9, 18, 27]]])"
      ]
     },
     "execution_count": 60,
     "metadata": {},
     "output_type": "execute_result"
    }
   ],
   "source": [
    "# convert rows into colimn or viceversa\n",
    "Reshape1.transpose()"
   ]
  },
  {
   "cell_type": "code",
   "execution_count": 61,
   "id": "4ccd8cf6",
   "metadata": {},
   "outputs": [
    {
     "data": {
      "text/plain": [
       "array([[[ 1, 10, 19],\n",
       "        [ 4, 13, 22],\n",
       "        [ 7, 16, 25]],\n",
       "\n",
       "       [[ 2, 11, 20],\n",
       "        [ 5, 14, 23],\n",
       "        [ 8, 17, 26]],\n",
       "\n",
       "       [[ 3, 12, 21],\n",
       "        [ 6, 15, 24],\n",
       "        [ 9, 18, 27]]])"
      ]
     },
     "execution_count": 61,
     "metadata": {},
     "output_type": "execute_result"
    }
   ],
   "source": [
    "Reshape1.T"
   ]
  },
  {
   "cell_type": "code",
   "execution_count": 62,
   "id": "20998436",
   "metadata": {
    "scrolled": true
   },
   "outputs": [
    {
     "name": "stdout",
     "output_type": "stream",
     "text": [
      "[[[ 1  2  3]\n",
      "  [ 4  5  6]\n",
      "  [ 7  8  9]]\n",
      "\n",
      " [[10 11 12]\n",
      "  [13 14 15]\n",
      "  [16 17 18]]\n",
      "\n",
      " [[19 20 21]\n",
      "  [22 23 24]\n",
      "  [25 26 27]]]\n"
     ]
    }
   ],
   "source": [
    "print(Reshape1)"
   ]
  },
  {
   "cell_type": "code",
   "execution_count": 63,
   "id": "08e29da7",
   "metadata": {},
   "outputs": [
    {
     "data": {
      "text/plain": [
       "array([[1, 2, 3],\n",
       "       [4, 5, 6],\n",
       "       [7, 8, 9]])"
      ]
     },
     "execution_count": 63,
     "metadata": {},
     "output_type": "execute_result"
    }
   ],
   "source": [
    "x = np.array([[1,2,3],[4,5,6],[7,8,9]])\n",
    "x"
   ]
  },
  {
   "cell_type": "code",
   "execution_count": 64,
   "id": "c9d4f215",
   "metadata": {},
   "outputs": [
    {
     "data": {
      "text/plain": [
       "array([[1, 4, 7],\n",
       "       [2, 5, 8],\n",
       "       [3, 6, 9]])"
      ]
     },
     "execution_count": 64,
     "metadata": {},
     "output_type": "execute_result"
    }
   ],
   "source": [
    "x.T"
   ]
  },
  {
   "cell_type": "markdown",
   "id": "1edb6b45",
   "metadata": {},
   "source": [
    "### Numpy Operation"
   ]
  },
  {
   "cell_type": "code",
   "execution_count": 65,
   "id": "2636f752",
   "metadata": {},
   "outputs": [],
   "source": [
    "array1 = np.arange(1,13).reshape(4,3)\n",
    "array2 = np.arange(1,13).reshape(4,3)"
   ]
  },
  {
   "cell_type": "code",
   "execution_count": 66,
   "id": "c0b84965",
   "metadata": {},
   "outputs": [
    {
     "name": "stdout",
     "output_type": "stream",
     "text": [
      "[[ 1  2  3]\n",
      " [ 4  5  6]\n",
      " [ 7  8  9]\n",
      " [10 11 12]]\n"
     ]
    }
   ],
   "source": [
    "print(array1)"
   ]
  },
  {
   "cell_type": "code",
   "execution_count": 67,
   "id": "ac3817e0",
   "metadata": {},
   "outputs": [
    {
     "name": "stdout",
     "output_type": "stream",
     "text": [
      "[[ 1  2  3]\n",
      " [ 4  5  6]\n",
      " [ 7  8  9]\n",
      " [10 11 12]]\n"
     ]
    }
   ],
   "source": [
    "print(array2)"
   ]
  },
  {
   "cell_type": "code",
   "execution_count": 68,
   "id": "e38ef6fb",
   "metadata": {},
   "outputs": [
    {
     "data": {
      "text/plain": [
       "array([[ 2,  4,  6],\n",
       "       [ 8, 10, 12],\n",
       "       [14, 16, 18],\n",
       "       [20, 22, 24]])"
      ]
     },
     "execution_count": 68,
     "metadata": {},
     "output_type": "execute_result"
    }
   ],
   "source": [
    "#addition\n",
    "array1+array2"
   ]
  },
  {
   "cell_type": "code",
   "execution_count": 69,
   "id": "8e4cbca8",
   "metadata": {},
   "outputs": [
    {
     "data": {
      "text/plain": [
       "array([[   1,    8,   27],\n",
       "       [  64,  125,  216],\n",
       "       [ 343,  512,  729],\n",
       "       [1000, 1331, 1728]])"
      ]
     },
     "execution_count": 69,
     "metadata": {},
     "output_type": "execute_result"
    }
   ],
   "source": [
    "array1 * array2 *array1"
   ]
  },
  {
   "cell_type": "code",
   "execution_count": 70,
   "id": "f45948ae",
   "metadata": {},
   "outputs": [
    {
     "data": {
      "text/plain": [
       "array([[ 2,  4,  6],\n",
       "       [ 8, 10, 12],\n",
       "       [14, 16, 18],\n",
       "       [20, 22, 24]])"
      ]
     },
     "execution_count": 70,
     "metadata": {},
     "output_type": "execute_result"
    }
   ],
   "source": [
    "np.add(array1, array2)"
   ]
  },
  {
   "cell_type": "code",
   "execution_count": 71,
   "id": "537fb47e",
   "metadata": {},
   "outputs": [
    {
     "data": {
      "text/plain": [
       "array([[0, 0, 0],\n",
       "       [0, 0, 0],\n",
       "       [0, 0, 0],\n",
       "       [0, 0, 0]])"
      ]
     },
     "execution_count": 71,
     "metadata": {},
     "output_type": "execute_result"
    }
   ],
   "source": [
    "np.subtract(array2, array1)"
   ]
  },
  {
   "cell_type": "code",
   "execution_count": 72,
   "id": "df5276a1",
   "metadata": {},
   "outputs": [
    {
     "data": {
      "text/plain": [
       "array([[  1,   4,   9],\n",
       "       [ 16,  25,  36],\n",
       "       [ 49,  64,  81],\n",
       "       [100, 121, 144]])"
      ]
     },
     "execution_count": 72,
     "metadata": {},
     "output_type": "execute_result"
    }
   ],
   "source": [
    "np.multiply(array1, array2)"
   ]
  },
  {
   "cell_type": "markdown",
   "id": "13b7e940",
   "metadata": {},
   "source": [
    "### matrix product"
   ]
  },
  {
   "cell_type": "code",
   "execution_count": 73,
   "id": "661de7dc",
   "metadata": {},
   "outputs": [
    {
     "name": "stdout",
     "output_type": "stream",
     "text": [
      "[[1 2 3]\n",
      " [4 5 6]\n",
      " [7 8 9]]\n",
      "[[1 2 3]\n",
      " [4 5 6]\n",
      " [7 8 9]]\n"
     ]
    }
   ],
   "source": [
    "ar1 = np.arange(1,10).reshape(3,3)\n",
    "ar2 = np.arange(1,10).reshape(3,3)\n",
    "print(ar1)\n",
    "print(ar2)"
   ]
  },
  {
   "cell_type": "code",
   "execution_count": 74,
   "id": "9cf0fe79",
   "metadata": {},
   "outputs": [
    {
     "data": {
      "text/plain": [
       "array([[ 30,  36,  42],\n",
       "       [ 66,  81,  96],\n",
       "       [102, 126, 150]])"
      ]
     },
     "execution_count": 74,
     "metadata": {},
     "output_type": "execute_result"
    }
   ],
   "source": [
    "ar1.dot(ar2)   # 1x1 + 2x4 + 3x7 = 1+8+21 = 30"
   ]
  },
  {
   "cell_type": "code",
   "execution_count": 75,
   "id": "535c4857",
   "metadata": {},
   "outputs": [
    {
     "data": {
      "text/plain": [
       "array([[1, 2, 3],\n",
       "       [4, 5, 6],\n",
       "       [7, 8, 9]])"
      ]
     },
     "execution_count": 75,
     "metadata": {},
     "output_type": "execute_result"
    }
   ],
   "source": [
    "# max()\n",
    "\n",
    "ar1"
   ]
  },
  {
   "cell_type": "code",
   "execution_count": 76,
   "id": "41a7ce7c",
   "metadata": {},
   "outputs": [
    {
     "data": {
      "text/plain": [
       "np.int64(9)"
      ]
     },
     "execution_count": 76,
     "metadata": {},
     "output_type": "execute_result"
    }
   ],
   "source": [
    "ar1.max()"
   ]
  },
  {
   "cell_type": "code",
   "execution_count": 77,
   "id": "fcf5bcd7",
   "metadata": {},
   "outputs": [],
   "source": [
    "# argmax() : find the index number  of the maximum value"
   ]
  },
  {
   "cell_type": "code",
   "execution_count": 78,
   "id": "5e9129cb",
   "metadata": {},
   "outputs": [
    {
     "data": {
      "text/plain": [
       "np.int64(8)"
      ]
     },
     "execution_count": 78,
     "metadata": {},
     "output_type": "execute_result"
    }
   ],
   "source": [
    "ar1.argmax()"
   ]
  },
  {
   "cell_type": "code",
   "execution_count": 79,
   "id": "f939ee47-a482-4a17-b80f-a0dd0d34fb8b",
   "metadata": {},
   "outputs": [],
   "source": [
    "# Create Array for check argmax :\n"
   ]
  },
  {
   "cell_type": "code",
   "execution_count": 80,
   "id": "bd083527",
   "metadata": {},
   "outputs": [
    {
     "data": {
      "text/plain": [
       "array([[7, 9, 6, 4],\n",
       "       [3, 4, 3, 1],\n",
       "       [3, 9, 3, 7],\n",
       "       [2, 7, 1, 2],\n",
       "       [3, 8, 2, 4]], dtype=int32)"
      ]
     },
     "execution_count": 80,
     "metadata": {},
     "output_type": "execute_result"
    }
   ],
   "source": [
    "aa = np.random.randint(1,10,20).reshape(5,4)\n",
    "aa"
   ]
  },
  {
   "cell_type": "code",
   "execution_count": 81,
   "id": "f828691f",
   "metadata": {},
   "outputs": [
    {
     "data": {
      "text/plain": [
       "(np.int32(9), np.int64(1))"
      ]
     },
     "execution_count": 81,
     "metadata": {},
     "output_type": "execute_result"
    }
   ],
   "source": [
    "aa.max(), aa.argmax()   # (max value , index of max value)"
   ]
  },
  {
   "cell_type": "code",
   "execution_count": 82,
   "id": "c0aa5170",
   "metadata": {},
   "outputs": [
    {
     "data": {
      "text/plain": [
       "array([[1, 2, 3],\n",
       "       [4, 5, 6],\n",
       "       [7, 8, 9]])"
      ]
     },
     "execution_count": 82,
     "metadata": {},
     "output_type": "execute_result"
    }
   ],
   "source": [
    "#find maximum value in columns and rows using axis parameter\n",
    "# 0 Represent columns and 1 represent Rows\n",
    "ar1"
   ]
  },
  {
   "cell_type": "code",
   "execution_count": 83,
   "id": "cab13959",
   "metadata": {},
   "outputs": [
    {
     "data": {
      "text/plain": [
       "array([7, 8, 9])"
      ]
     },
     "execution_count": 83,
     "metadata": {},
     "output_type": "execute_result"
    }
   ],
   "source": [
    "ar1.max(axis=0) #max in row"
   ]
  },
  {
   "cell_type": "code",
   "execution_count": 84,
   "id": "551f828d-19e6-494b-b6fb-44f0592500cb",
   "metadata": {},
   "outputs": [
    {
     "data": {
      "text/plain": [
       "array([1, 4, 7])"
      ]
     },
     "execution_count": 84,
     "metadata": {},
     "output_type": "execute_result"
    }
   ],
   "source": [
    "ar1.min(axis=1) # min in column"
   ]
  },
  {
   "cell_type": "code",
   "execution_count": null,
   "id": "7cb667ed-9355-4b8b-9cfe-ac648cefb4ce",
   "metadata": {},
   "outputs": [],
   "source": []
  },
  {
   "cell_type": "code",
   "execution_count": 85,
   "id": "437d60b2",
   "metadata": {},
   "outputs": [],
   "source": [
    "# sum()"
   ]
  },
  {
   "cell_type": "code",
   "execution_count": 86,
   "id": "f7f530de",
   "metadata": {},
   "outputs": [
    {
     "data": {
      "text/plain": [
       "array([[1, 2, 3],\n",
       "       [4, 5, 6],\n",
       "       [7, 8, 9]])"
      ]
     },
     "execution_count": 86,
     "metadata": {},
     "output_type": "execute_result"
    }
   ],
   "source": [
    "ar1"
   ]
  },
  {
   "cell_type": "code",
   "execution_count": 87,
   "id": "7f0a9de4",
   "metadata": {},
   "outputs": [
    {
     "data": {
      "text/plain": [
       "np.int64(45)"
      ]
     },
     "execution_count": 87,
     "metadata": {},
     "output_type": "execute_result"
    }
   ],
   "source": [
    "ar1.sum()"
   ]
  },
  {
   "cell_type": "code",
   "execution_count": 88,
   "id": "5563f291",
   "metadata": {},
   "outputs": [
    {
     "data": {
      "text/plain": [
       "array([12, 15, 18])"
      ]
     },
     "execution_count": 88,
     "metadata": {},
     "output_type": "execute_result"
    }
   ],
   "source": [
    "a = np.sum(ar1, axis=0) #addition of row\n",
    "a\n",
    "# [(1+4+7),(2+5+8),(3+6+9)]"
   ]
  },
  {
   "cell_type": "code",
   "execution_count": 89,
   "id": "1f089760",
   "metadata": {},
   "outputs": [
    {
     "data": {
      "text/plain": [
       "array([ 6, 15, 24])"
      ]
     },
     "execution_count": 89,
     "metadata": {},
     "output_type": "execute_result"
    }
   ],
   "source": [
    "a = np.sum(ar1, axis=1) #addition of column\n",
    "a\n",
    "# [(1+2+3),(4+5+6),(7+8+9)]"
   ]
  },
  {
   "cell_type": "code",
   "execution_count": 90,
   "id": "d027202c",
   "metadata": {},
   "outputs": [],
   "source": [
    "# mean()"
   ]
  },
  {
   "cell_type": "code",
   "execution_count": 91,
   "id": "b908580b",
   "metadata": {},
   "outputs": [
    {
     "data": {
      "text/plain": [
       "array([[1, 2, 3],\n",
       "       [4, 5, 6],\n",
       "       [7, 8, 9]])"
      ]
     },
     "execution_count": 91,
     "metadata": {},
     "output_type": "execute_result"
    }
   ],
   "source": [
    "ar1"
   ]
  },
  {
   "cell_type": "code",
   "execution_count": 92,
   "id": "f0994855",
   "metadata": {},
   "outputs": [
    {
     "data": {
      "text/plain": [
       "np.float64(5.0)"
      ]
     },
     "execution_count": 92,
     "metadata": {},
     "output_type": "execute_result"
    }
   ],
   "source": [
    "ar1.mean()\n",
    "# (1+2+3+4+5+6+7+8+9) = 45 / 9(number of element)"
   ]
  },
  {
   "cell_type": "code",
   "execution_count": 93,
   "id": "eb0263c5",
   "metadata": {},
   "outputs": [],
   "source": [
    "# sqrt() & square()"
   ]
  },
  {
   "cell_type": "code",
   "execution_count": 94,
   "id": "2eeb4ff5",
   "metadata": {},
   "outputs": [
    {
     "data": {
      "text/plain": [
       "array([[1, 2, 3],\n",
       "       [4, 5, 6],\n",
       "       [7, 8, 9]])"
      ]
     },
     "execution_count": 94,
     "metadata": {},
     "output_type": "execute_result"
    }
   ],
   "source": [
    "ar1"
   ]
  },
  {
   "cell_type": "code",
   "execution_count": 95,
   "id": "a4dc8489",
   "metadata": {},
   "outputs": [
    {
     "data": {
      "text/plain": [
       "array([[ 1,  4,  9],\n",
       "       [16, 25, 36],\n",
       "       [49, 64, 81]])"
      ]
     },
     "execution_count": 95,
     "metadata": {},
     "output_type": "execute_result"
    }
   ],
   "source": [
    "y = np.square(ar1)\n",
    "y"
   ]
  },
  {
   "cell_type": "code",
   "execution_count": 96,
   "id": "5d34f4b2",
   "metadata": {
    "scrolled": true
   },
   "outputs": [
    {
     "data": {
      "text/plain": [
       "array([[1., 2., 3.],\n",
       "       [4., 5., 6.],\n",
       "       [7., 8., 9.]])"
      ]
     },
     "execution_count": 96,
     "metadata": {},
     "output_type": "execute_result"
    }
   ],
   "source": [
    "np.sqrt(y)"
   ]
  },
  {
   "cell_type": "markdown",
   "id": "6eab28c6-6574-4008-b582-ac95d9347838",
   "metadata": {},
   "source": [
    "**std()**\n",
    "* The standard deviation is the square root of the average of the squared deviations from the mean, i.e., std = sqrt(x), where x = abs(a - a.mean())².\n",
    "\n",
    "* ((1-5)²+(2-5)²+(3-5)²+(4-5)²+(5-5)²+(6-5)²+(7-5)²+(8-5)²+(9-5)²)\n",
    "* (16+9+4+1+0+1+4+9+16 = 60\n",
    "\n",
    "* std = sqrt(mean(x)), where x = 60 / 9 = 6.66666666666666666\n",
    "\n",
    "* std = √6.666666666666666666 = 2.581988897471611\n"
   ]
  },
  {
   "cell_type": "code",
   "execution_count": 97,
   "id": "179b663b",
   "metadata": {},
   "outputs": [
    {
     "data": {
      "text/plain": [
       "np.float64(2.581988897471611)"
      ]
     },
     "execution_count": 97,
     "metadata": {},
     "output_type": "execute_result"
    }
   ],
   "source": [
    "np.std(ar1)\n"
   ]
  },
  {
   "cell_type": "markdown",
   "id": "151a1ae4-4580-4c3e-966b-5341289f6824",
   "metadata": {},
   "source": [
    "**exp()**\n",
    "* Exponential Function : (e)ª \n",
    "* 'e' is an Euler's number e = 2.718281828459045........\n",
    "*  a = values of array\n",
    "*  f(a) = (2.718281828459045..)¹ "
   ]
  },
  {
   "cell_type": "code",
   "execution_count": 98,
   "id": "80e14fb9-c894-4b7b-8e93-73cf19f7d5b7",
   "metadata": {},
   "outputs": [
    {
     "data": {
      "text/plain": [
       "array([[1, 2, 3],\n",
       "       [4, 5, 6],\n",
       "       [7, 8, 9]])"
      ]
     },
     "execution_count": 98,
     "metadata": {},
     "output_type": "execute_result"
    }
   ],
   "source": [
    "ar1"
   ]
  },
  {
   "cell_type": "code",
   "execution_count": 99,
   "id": "2ad5e6be",
   "metadata": {},
   "outputs": [
    {
     "data": {
      "text/plain": [
       "array([[2.71828183e+00, 7.38905610e+00, 2.00855369e+01],\n",
       "       [5.45981500e+01, 1.48413159e+02, 4.03428793e+02],\n",
       "       [1.09663316e+03, 2.98095799e+03, 8.10308393e+03]])"
      ]
     },
     "execution_count": 99,
     "metadata": {},
     "output_type": "execute_result"
    }
   ],
   "source": [
    "np.exp(ar1)"
   ]
  },
  {
   "cell_type": "code",
   "execution_count": 100,
   "id": "7af01dc4-9daa-45e1-ade1-6c2e96e1d70f",
   "metadata": {},
   "outputs": [],
   "source": [
    "# check exp for any matrix "
   ]
  },
  {
   "cell_type": "code",
   "execution_count": null,
   "id": "e532642f-741f-4093-b3e2-3cc9c0297ee4",
   "metadata": {},
   "outputs": [],
   "source": []
  },
  {
   "cell_type": "markdown",
   "id": "d9c2bdba-58b3-4445-a744-b10f0421a760",
   "metadata": {},
   "source": [
    "**log()**\n",
    "* The numpy.log() is a mathematical function that helps user to calculate Natural logarithm of x where x belongs to all the input array elements."
   ]
  },
  {
   "cell_type": "code",
   "execution_count": 101,
   "id": "17cc4e92",
   "metadata": {},
   "outputs": [
    {
     "data": {
      "text/plain": [
       "array([[0.        , 0.69314718, 1.09861229],\n",
       "       [1.38629436, 1.60943791, 1.79175947],\n",
       "       [1.94591015, 2.07944154, 2.19722458]])"
      ]
     },
     "execution_count": 101,
     "metadata": {},
     "output_type": "execute_result"
    }
   ],
   "source": [
    "np.log(ar1)"
   ]
  },
  {
   "cell_type": "markdown",
   "id": "595b694d-d9cb-4d5e-9a2f-d7ae89ebfc70",
   "metadata": {},
   "source": [
    "**log10()**"
   ]
  },
  {
   "cell_type": "code",
   "execution_count": 102,
   "id": "a4a7f72c",
   "metadata": {},
   "outputs": [
    {
     "data": {
      "text/plain": [
       "array([[0.        , 0.30103   , 0.47712125],\n",
       "       [0.60205999, 0.69897   , 0.77815125],\n",
       "       [0.84509804, 0.90308999, 0.95424251]])"
      ]
     },
     "execution_count": 102,
     "metadata": {},
     "output_type": "execute_result"
    }
   ],
   "source": [
    "np.log10(ar1)"
   ]
  },
  {
   "cell_type": "markdown",
   "id": "be537b0e",
   "metadata": {},
   "source": [
    "### Array Slicing in Numpy"
   ]
  },
  {
   "cell_type": "markdown",
   "id": "e906ac95-86b6-4e38-b44a-b1bfa92fe5ab",
   "metadata": {},
   "source": [
    "*Slicing in python means taking elements from one given index to another given index.\n",
    "\n",
    "* We pass slice instead of index like this: [start : end].\n",
    "\n",
    "* We can also define the step, like this: [start : end : step]."
   ]
  },
  {
   "cell_type": "code",
   "execution_count": 103,
   "id": "5d5eb8b1",
   "metadata": {
    "editable": true,
    "slideshow": {
     "slide_type": ""
    },
    "tags": []
   },
   "outputs": [
    {
     "data": {
      "text/plain": [
       "array([[ 1,  2,  3,  4,  5],\n",
       "       [ 6,  7,  8,  9, 10],\n",
       "       [11, 12, 13, 14, 15],\n",
       "       [16, 17, 18, 19, 20],\n",
       "       [21, 22, 23, 24, 25]])"
      ]
     },
     "execution_count": 103,
     "metadata": {},
     "output_type": "execute_result"
    }
   ],
   "source": [
    "mx = np.arange(1,26).reshape(5,5)\n",
    "mx"
   ]
  },
  {
   "cell_type": "code",
   "execution_count": 104,
   "id": "b6428f56",
   "metadata": {},
   "outputs": [
    {
     "name": "stdout",
     "output_type": "stream",
     "text": [
      "1\n",
      "11\n"
     ]
    }
   ],
   "source": [
    "#print 1 element -1D\n",
    "print(mx[0,0])\n",
    "print(mx[2,0])"
   ]
  },
  {
   "cell_type": "code",
   "execution_count": 105,
   "id": "d410cd77",
   "metadata": {
    "editable": true,
    "slideshow": {
     "slide_type": ""
    },
    "tags": []
   },
   "outputs": [
    {
     "data": {
      "text/plain": [
       "array([1, 2, 3, 4, 5])"
      ]
     },
     "execution_count": 105,
     "metadata": {},
     "output_type": "execute_result"
    }
   ],
   "source": [
    "#single rows - 2D    # row , Column\n",
    "# mx[0:1,0:8]\n",
    "mx[0,0:]"
   ]
  },
  {
   "cell_type": "code",
   "execution_count": 106,
   "id": "19e1fdc0",
   "metadata": {},
   "outputs": [
    {
     "data": {
      "text/plain": [
       "array([[ 1,  2,  3,  4,  5],\n",
       "       [ 6,  7,  8,  9, 10],\n",
       "       [11, 12, 13, 14, 15],\n",
       "       [16, 17, 18, 19, 20],\n",
       "       [21, 22, 23, 24, 25]])"
      ]
     },
     "execution_count": 106,
     "metadata": {},
     "output_type": "execute_result"
    }
   ],
   "source": [
    "mx"
   ]
  },
  {
   "cell_type": "code",
   "execution_count": 107,
   "id": "337e9d77",
   "metadata": {},
   "outputs": [
    {
     "data": {
      "text/plain": [
       "array([[ 1],\n",
       "       [ 6],\n",
       "       [11],\n",
       "       [16],\n",
       "       [21]])"
      ]
     },
     "execution_count": 107,
     "metadata": {},
     "output_type": "execute_result"
    }
   ],
   "source": [
    "#single columns\n",
    "mx[0:,0:1]"
   ]
  },
  {
   "cell_type": "code",
   "execution_count": 108,
   "id": "f9a7e4d0",
   "metadata": {},
   "outputs": [
    {
     "data": {
      "text/plain": [
       "array([[ 1,  2,  3,  4,  5],\n",
       "       [ 6,  7,  8,  9, 10],\n",
       "       [11, 12, 13, 14, 15],\n",
       "       [16, 17, 18, 19, 20],\n",
       "       [21, 22, 23, 24, 25]])"
      ]
     },
     "execution_count": 108,
     "metadata": {},
     "output_type": "execute_result"
    }
   ],
   "source": [
    "#find random number\n",
    "mx"
   ]
  },
  {
   "cell_type": "code",
   "execution_count": 109,
   "id": "039d7434",
   "metadata": {},
   "outputs": [
    {
     "data": {
      "text/plain": [
       "array([[13, 14],\n",
       "       [18, 19]])"
      ]
     },
     "execution_count": 109,
     "metadata": {},
     "output_type": "execute_result"
    }
   ],
   "source": [
    "# [13,14\n",
    "# 18,19]\n",
    "mx[2:4,2:4]"
   ]
  },
  {
   "cell_type": "code",
   "execution_count": 110,
   "id": "77b6b05c",
   "metadata": {},
   "outputs": [
    {
     "data": {
      "text/plain": [
       "array([[ 7,  9],\n",
       "       [17, 19]])"
      ]
     },
     "execution_count": 110,
     "metadata": {},
     "output_type": "execute_result"
    }
   ],
   "source": [
    "#use step parameters\n",
    "# [7,9\n",
    "# 17,19]\n",
    "mx[1:4:2, 1:4:2]"
   ]
  },
  {
   "cell_type": "code",
   "execution_count": 111,
   "id": "72f4f0fb",
   "metadata": {},
   "outputs": [
    {
     "data": {
      "text/plain": [
       "array([[ 1,  2,  3,  4,  5],\n",
       "       [ 6,  7,  8,  9, 10],\n",
       "       [11, 12, 13, 14, 15],\n",
       "       [16, 17, 18, 19, 20],\n",
       "       [21, 22, 23, 24, 25]])"
      ]
     },
     "execution_count": 111,
     "metadata": {},
     "output_type": "execute_result"
    }
   ],
   "source": [
    "mx"
   ]
  },
  {
   "cell_type": "code",
   "execution_count": 112,
   "id": "1d16f1eb",
   "metadata": {},
   "outputs": [
    {
     "data": {
      "text/plain": [
       "8"
      ]
     },
     "execution_count": 112,
     "metadata": {},
     "output_type": "execute_result"
    }
   ],
   "source": [
    "#size of the item\n",
    "mx.itemsize\n",
    "# returns the size (in bytes) of each element of a NumPy array."
   ]
  },
  {
   "cell_type": "code",
   "execution_count": 113,
   "id": "e2fc079a",
   "metadata": {},
   "outputs": [
    {
     "data": {
      "text/plain": [
       "dtype('int64')"
      ]
     },
     "execution_count": 113,
     "metadata": {},
     "output_type": "execute_result"
    }
   ],
   "source": [
    "mx.dtype"
   ]
  },
  {
   "cell_type": "code",
   "execution_count": 114,
   "id": "b123aad3",
   "metadata": {},
   "outputs": [],
   "source": [
    "# Array Concatenation and Split"
   ]
  },
  {
   "cell_type": "code",
   "execution_count": 115,
   "id": "38d4f7e0",
   "metadata": {},
   "outputs": [],
   "source": [
    "a1 = np.arange(1,10).reshape(3,3)\n",
    "a2 = np.arange(10,19).reshape(3,3)"
   ]
  },
  {
   "cell_type": "code",
   "execution_count": 116,
   "id": "6c188342",
   "metadata": {},
   "outputs": [
    {
     "data": {
      "text/plain": [
       "array([[1, 2, 3],\n",
       "       [4, 5, 6],\n",
       "       [7, 8, 9]])"
      ]
     },
     "execution_count": 116,
     "metadata": {},
     "output_type": "execute_result"
    }
   ],
   "source": [
    "a1"
   ]
  },
  {
   "cell_type": "code",
   "execution_count": 117,
   "id": "bd329147",
   "metadata": {},
   "outputs": [
    {
     "data": {
      "text/plain": [
       "array([[10, 11, 12],\n",
       "       [13, 14, 15],\n",
       "       [16, 17, 18]])"
      ]
     },
     "execution_count": 117,
     "metadata": {},
     "output_type": "execute_result"
    }
   ],
   "source": [
    "a2"
   ]
  },
  {
   "cell_type": "code",
   "execution_count": 118,
   "id": "a7f8ad58",
   "metadata": {},
   "outputs": [
    {
     "data": {
      "text/plain": [
       "array([[11, 13, 15],\n",
       "       [17, 19, 21],\n",
       "       [23, 25, 27]])"
      ]
     },
     "execution_count": 118,
     "metadata": {},
     "output_type": "execute_result"
    }
   ],
   "source": [
    "a1+a2"
   ]
  },
  {
   "cell_type": "code",
   "execution_count": 119,
   "id": "09ce70fb",
   "metadata": {},
   "outputs": [
    {
     "data": {
      "text/plain": [
       "array([[ 1,  2,  3],\n",
       "       [ 4,  5,  6],\n",
       "       [ 7,  8,  9],\n",
       "       [10, 11, 12],\n",
       "       [13, 14, 15],\n",
       "       [16, 17, 18]])"
      ]
     },
     "execution_count": 119,
     "metadata": {},
     "output_type": "execute_result"
    }
   ],
   "source": [
    "#use concatenate\n",
    "np.concatenate((a1,a2))    # by default concatenate in row "
   ]
  },
  {
   "cell_type": "code",
   "execution_count": 120,
   "id": "8bec1d7e",
   "metadata": {},
   "outputs": [
    {
     "data": {
      "text/plain": [
       "array([[ 1,  2,  3, 10, 11, 12],\n",
       "       [ 4,  5,  6, 13, 14, 15],\n",
       "       [ 7,  8,  9, 16, 17, 18]])"
      ]
     },
     "execution_count": 120,
     "metadata": {},
     "output_type": "execute_result"
    }
   ],
   "source": [
    "np.concatenate((a1,a2), axis=1)    # axis 1 for column "
   ]
  },
  {
   "cell_type": "code",
   "execution_count": 121,
   "id": "7c7178ee",
   "metadata": {},
   "outputs": [
    {
     "data": {
      "text/plain": [
       "array([[ 1,  4,  7, 10, 13, 16],\n",
       "       [ 2,  5,  8, 11, 14, 17],\n",
       "       [ 3,  6,  9, 12, 15, 18]])"
      ]
     },
     "execution_count": 121,
     "metadata": {},
     "output_type": "execute_result"
    }
   ],
   "source": [
    "np.concatenate((a1,a2)).T"
   ]
  },
  {
   "cell_type": "code",
   "execution_count": 122,
   "id": "07915c78",
   "metadata": {},
   "outputs": [
    {
     "data": {
      "text/plain": [
       "array([[ 1,  2,  3],\n",
       "       [ 4,  5,  6],\n",
       "       [ 7,  8,  9],\n",
       "       [10, 11, 12],\n",
       "       [13, 14, 15],\n",
       "       [16, 17, 18]])"
      ]
     },
     "execution_count": 122,
     "metadata": {},
     "output_type": "execute_result"
    }
   ],
   "source": [
    "#verical concate\n",
    "np.vstack((a1,a2))"
   ]
  },
  {
   "cell_type": "code",
   "execution_count": 123,
   "id": "d53f0b84",
   "metadata": {},
   "outputs": [
    {
     "data": {
      "text/plain": [
       "array([[ 1,  2,  3, 10, 11, 12],\n",
       "       [ 4,  5,  6, 13, 14, 15],\n",
       "       [ 7,  8,  9, 16, 17, 18]])"
      ]
     },
     "execution_count": 123,
     "metadata": {},
     "output_type": "execute_result"
    }
   ],
   "source": [
    "#horizantal concate\n",
    "np.hstack((a1,a2))"
   ]
  },
  {
   "cell_type": "code",
   "execution_count": 124,
   "id": "f74b9592",
   "metadata": {},
   "outputs": [
    {
     "data": {
      "text/plain": [
       "array([[ 1,  2,  3,  4],\n",
       "       [ 5,  6,  7,  8],\n",
       "       [ 9, 10, 11, 12],\n",
       "       [13, 14, 15, 16],\n",
       "       [17, 18, 19, 20],\n",
       "       [21, 22, 23, 24]])"
      ]
     },
     "execution_count": 124,
     "metadata": {},
     "output_type": "execute_result"
    }
   ],
   "source": [
    "#Split\n",
    "split_array = np.arange(1,25).reshape(6,4)\n",
    "split_array"
   ]
  },
  {
   "cell_type": "code",
   "execution_count": 125,
   "id": "e01e45e2",
   "metadata": {},
   "outputs": [
    {
     "data": {
      "text/plain": [
       "[array([[1, 2, 3, 4]]),\n",
       " array([[5, 6, 7, 8]]),\n",
       " array([[ 9, 10, 11, 12]]),\n",
       " array([[13, 14, 15, 16]]),\n",
       " array([[17, 18, 19, 20]]),\n",
       " array([[21, 22, 23, 24]])]"
      ]
     },
     "execution_count": 125,
     "metadata": {},
     "output_type": "execute_result"
    }
   ],
   "source": [
    "np.split(split_array,6)"
   ]
  },
  {
   "cell_type": "code",
   "execution_count": 126,
   "id": "08acf923",
   "metadata": {},
   "outputs": [
    {
     "data": {
      "text/plain": [
       "[array([[ 1],\n",
       "        [ 5],\n",
       "        [ 9],\n",
       "        [13],\n",
       "        [17],\n",
       "        [21]]),\n",
       " array([[ 2],\n",
       "        [ 6],\n",
       "        [10],\n",
       "        [14],\n",
       "        [18],\n",
       "        [22]]),\n",
       " array([[ 3],\n",
       "        [ 7],\n",
       "        [11],\n",
       "        [15],\n",
       "        [19],\n",
       "        [23]]),\n",
       " array([[ 4],\n",
       "        [ 8],\n",
       "        [12],\n",
       "        [16],\n",
       "        [20],\n",
       "        [24]])]"
      ]
     },
     "execution_count": 126,
     "metadata": {},
     "output_type": "execute_result"
    }
   ],
   "source": [
    "#split with columns\n",
    "np.split(split_array, 4, axis=1)"
   ]
  },
  {
   "cell_type": "markdown",
   "id": "1320dad1",
   "metadata": {},
   "source": [
    "### Trignometry sin(), cos(), tan()"
   ]
  },
  {
   "cell_type": "markdown",
   "id": "be9ed3db-f699-4d18-8816-9a39e2ea487a",
   "metadata": {},
   "source": [
    "* NumPy has standard trigonometric functions which return trigonometric ratios for a given angle in radians.\n",
    "* This mathematical function helps user to calculate trignmetric sine for all x(being the array elements)."
   ]
  },
  {
   "cell_type": "code",
   "execution_count": 127,
   "id": "26b2f221",
   "metadata": {},
   "outputs": [],
   "source": [
    "import matplotlib.pyplot as plt"
   ]
  },
  {
   "cell_type": "code",
   "execution_count": 128,
   "id": "9564324a",
   "metadata": {},
   "outputs": [
    {
     "data": {
      "text/plain": [
       "np.float64(-0.8011526357338304)"
      ]
     },
     "execution_count": 128,
     "metadata": {},
     "output_type": "execute_result"
    }
   ],
   "source": [
    "np.sin(180) #in degree|"
   ]
  },
  {
   "cell_type": "code",
   "execution_count": 129,
   "id": "dce23245",
   "metadata": {},
   "outputs": [
    {
     "data": {
      "text/plain": [
       "np.float64(1.2246467991473532e-16)"
      ]
     },
     "execution_count": 129,
     "metadata": {},
     "output_type": "execute_result"
    }
   ],
   "source": [
    "np.sin(180 *np.pi/180) #radian"
   ]
  },
  {
   "cell_type": "code",
   "execution_count": 130,
   "id": "42eb95f1",
   "metadata": {},
   "outputs": [
    {
     "data": {
      "text/plain": [
       "np.float64(0.8939966636005579)"
      ]
     },
     "execution_count": 130,
     "metadata": {},
     "output_type": "execute_result"
    }
   ],
   "source": [
    "np.sin(90)"
   ]
  },
  {
   "cell_type": "code",
   "execution_count": 131,
   "id": "b66a0b1d",
   "metadata": {},
   "outputs": [
    {
     "data": {
      "text/plain": [
       "np.float64(1.3386902103511544)"
      ]
     },
     "execution_count": 131,
     "metadata": {},
     "output_type": "execute_result"
    }
   ],
   "source": [
    "np.tan(180)"
   ]
  },
  {
   "cell_type": "code",
   "execution_count": 132,
   "id": "2e6c83fe",
   "metadata": {},
   "outputs": [
    {
     "data": {
      "text/plain": [
       "np.float64(-3.380140413960958)"
      ]
     },
     "execution_count": 132,
     "metadata": {},
     "output_type": "execute_result"
    }
   ],
   "source": [
    "np.tan(360)"
   ]
  },
  {
   "cell_type": "code",
   "execution_count": 133,
   "id": "79bddf65",
   "metadata": {},
   "outputs": [
    {
     "data": {
      "text/plain": [
       "np.float64(-0.5984600690578581)"
      ]
     },
     "execution_count": 133,
     "metadata": {},
     "output_type": "execute_result"
    }
   ],
   "source": [
    "np.cos(180)"
   ]
  },
  {
   "cell_type": "code",
   "execution_count": 134,
   "id": "7cfef412",
   "metadata": {},
   "outputs": [
    {
     "data": {
      "text/plain": [
       "array([0. , 0.2, 0.4, 0.6, 0.8, 1. , 1.2, 1.4, 1.6, 1.8, 2. , 2.2, 2.4,\n",
       "       2.6, 2.8, 3. , 3.2, 3.4, 3.6, 3.8, 4. , 4.2, 4.4, 4.6, 4.8])"
      ]
     },
     "execution_count": 134,
     "metadata": {},
     "output_type": "execute_result"
    }
   ],
   "source": [
    "#visulizations\n",
    "x_sin = np.arange(0,5,0.20)\n",
    "x_sin"
   ]
  },
  {
   "cell_type": "code",
   "execution_count": 135,
   "id": "6cdc12ee",
   "metadata": {},
   "outputs": [
    {
     "data": {
      "text/plain": [
       "array([ 0.        ,  0.19866933,  0.38941834,  0.56464247,  0.71735609,\n",
       "        0.84147098,  0.93203909,  0.98544973,  0.9995736 ,  0.97384763,\n",
       "        0.90929743,  0.8084964 ,  0.67546318,  0.51550137,  0.33498815,\n",
       "        0.14112001, -0.05837414, -0.2555411 , -0.44252044, -0.61185789,\n",
       "       -0.7568025 , -0.87157577, -0.95160207, -0.993691  , -0.99616461])"
      ]
     },
     "execution_count": 135,
     "metadata": {},
     "output_type": "execute_result"
    }
   ],
   "source": [
    "y_sin = np.sin(x_sin)\n",
    "y_sin"
   ]
  },
  {
   "cell_type": "code",
   "execution_count": 136,
   "id": "af1a266d",
   "metadata": {},
   "outputs": [
    {
     "data": {
      "image/png": "[encoded data removed]",
      "text/plain": [
       "<Figure size 640x480 with 1 Axes>"
      ]
     },
     "metadata": {},
     "output_type": "display_data"
    }
   ],
   "source": [
    "plt.scatter(x_sin,y_sin);\n",
    "plt.xlabel(\"X_sin() Value\")\n",
    "plt.ylabel(\"Y_sin() value\")\n",
    "plt.title(\"Sin() Graph\", fontsize=20)\n",
    "plt.show()"
   ]
  },
  {
   "cell_type": "code",
   "execution_count": 137,
   "id": "64a950a4-7dd5-4e15-be5b-36ddb398fa59",
   "metadata": {},
   "outputs": [
    {
     "data": {
      "text/plain": [
       "array([0. , 0.2, 0.4, 0.6, 0.8, 1. , 1.2, 1.4, 1.6, 1.8, 2. , 2.2, 2.4,\n",
       "       2.6, 2.8, 3. , 3.2, 3.4, 3.6, 3.8, 4. , 4.2, 4.4, 4.6, 4.8])"
      ]
     },
     "execution_count": 137,
     "metadata": {},
     "output_type": "execute_result"
    }
   ],
   "source": [
    "x_cos = np.arange(0,5,0.20)\n",
    "x_cos"
   ]
  },
  {
   "cell_type": "code",
   "execution_count": 138,
   "id": "2b1baaf6-023f-43c2-b6f4-09710435dc41",
   "metadata": {},
   "outputs": [
    {
     "data": {
      "text/plain": [
       "array([ 1.        ,  0.98006658,  0.92106099,  0.82533561,  0.69670671,\n",
       "        0.54030231,  0.36235775,  0.16996714, -0.02919952, -0.22720209,\n",
       "       -0.41614684, -0.58850112, -0.73739372, -0.85688875, -0.94222234,\n",
       "       -0.9899925 , -0.99829478, -0.96679819, -0.89675842, -0.79096771,\n",
       "       -0.65364362, -0.49026082, -0.30733287, -0.11215253,  0.08749898])"
      ]
     },
     "execution_count": 138,
     "metadata": {},
     "output_type": "execute_result"
    }
   ],
   "source": [
    "y_cos = np.cos(x_cos)\n",
    "y_cos"
   ]
  },
  {
   "cell_type": "code",
   "execution_count": 139,
   "id": "d33b1be0-05ce-4f6f-9862-bb676f941d7d",
   "metadata": {},
   "outputs": [
    {
     "data": {
      "image/png": "[encoded data removed]",
      "text/plain": [
       "<Figure size 640x480 with 1 Axes>"
      ]
     },
     "metadata": {},
     "output_type": "display_data"
    }
   ],
   "source": [
    "plt.scatter(x_cos,y_cos);\n",
    "plt.xlabel(\"X_cos() Value\")\n",
    "plt.ylabel(\"Y_cos() value\")\n",
    "plt.title(\"Cos() Graph\", fontsize=20)\n",
    "plt.show()"
   ]
  },
  {
   "cell_type": "markdown",
   "id": "43cd9726",
   "metadata": {},
   "source": [
    "### Random Sampling"
   ]
  },
  {
   "cell_type": "code",
   "execution_count": 140,
   "id": "5cdb7c7a",
   "metadata": {},
   "outputs": [],
   "source": [
    "import random\n",
    "import numpy as np"
   ]
  },
  {
   "cell_type": "code",
   "execution_count": 141,
   "id": "50bc3ae3",
   "metadata": {},
   "outputs": [
    {
     "data": {
      "text/plain": [
       "array([0.60385404, 0.0358305 , 0.41305692, 0.97949242, 0.33809836,\n",
       "       0.68928593, 0.22892936, 0.34228489, 0.37038559, 0.50020891])"
      ]
     },
     "execution_count": 141,
     "metadata": {},
     "output_type": "execute_result"
    }
   ],
   "source": [
    "np.random.random(10)"
   ]
  },
  {
   "cell_type": "code",
   "execution_count": 142,
   "id": "fe3ab9ca",
   "metadata": {},
   "outputs": [
    {
     "data": {
      "text/plain": [
       "array([[[0.39934425, 0.71320655, 0.20138107],\n",
       "        [0.04227575, 0.25363054, 0.24873851],\n",
       "        [0.62569445, 0.21068263, 0.41772541]],\n",
       "\n",
       "       [[0.62593637, 0.71700877, 0.39289527],\n",
       "        [0.32202701, 0.45525807, 0.78346928],\n",
       "        [0.89979112, 0.65098266, 0.04780248]],\n",
       "\n",
       "       [[0.24410479, 0.56701092, 0.8335703 ],\n",
       "        [0.66401362, 0.50819419, 0.77666309],\n",
       "        [0.3469103 , 0.58477511, 0.66958269]]])"
      ]
     },
     "execution_count": 142,
     "metadata": {},
     "output_type": "execute_result"
    }
   ],
   "source": [
    "#in array\n",
    "np.random.random((3,3,3))"
   ]
  },
  {
   "cell_type": "code",
   "execution_count": null,
   "id": "66ea5320-2c44-42b2-8470-73519497b1e2",
   "metadata": {},
   "outputs": [],
   "source": []
  },
  {
   "cell_type": "code",
   "execution_count": 143,
   "id": "db5000e7",
   "metadata": {},
   "outputs": [
    {
     "data": {
      "text/plain": [
       "1"
      ]
     },
     "execution_count": 143,
     "metadata": {},
     "output_type": "execute_result"
    }
   ],
   "source": [
    "# randint\n",
    "\n",
    "#in int\n",
    "np.random.randint((10))"
   ]
  },
  {
   "cell_type": "code",
   "execution_count": 144,
   "id": "2d97244b",
   "metadata": {},
   "outputs": [
    {
     "data": {
      "text/plain": [
       "array([ 8, 42, 24, 37, 14, 40, 46,  5, 30, 46, 22, 22,  4,  1, 31, 42, 45,\n",
       "       27, 47, 30], dtype=int32)"
      ]
     },
     "execution_count": 144,
     "metadata": {},
     "output_type": "execute_result"
    }
   ],
   "source": [
    "np.random.randint(0,50,20)"
   ]
  },
  {
   "cell_type": "code",
   "execution_count": 145,
   "id": "986118c6",
   "metadata": {},
   "outputs": [
    {
     "data": {
      "text/plain": [
       "array([[10,  9,  7, 10],\n",
       "       [ 5,  9, 10,  6],\n",
       "       [ 6,  5,  8,  9],\n",
       "       [10,  9,  9,  9],\n",
       "       [ 5,  7,  6,  5]], dtype=int32)"
      ]
     },
     "execution_count": 145,
     "metadata": {},
     "output_type": "execute_result"
    }
   ],
   "source": [
    "#in shape\n",
    "np.random.randint(5,11,(5,4))"
   ]
  },
  {
   "cell_type": "code",
   "execution_count": 146,
   "id": "5e00557c",
   "metadata": {},
   "outputs": [
    {
     "data": {
      "text/plain": [
       "array([[[2, 2, 2, 1],\n",
       "        [2, 2, 1, 2],\n",
       "        [2, 1, 1, 2],\n",
       "        [1, 1, 1, 2],\n",
       "        [2, 1, 1, 1]],\n",
       "\n",
       "       [[2, 1, 1, 1],\n",
       "        [2, 1, 2, 1],\n",
       "        [2, 1, 1, 2],\n",
       "        [1, 2, 1, 2],\n",
       "        [1, 1, 2, 2]]], dtype=int32)"
      ]
     },
     "execution_count": 146,
     "metadata": {},
     "output_type": "execute_result"
    }
   ],
   "source": [
    "#in 3D shape \n",
    "np.random.randint(1,3,(2,5,4))"
   ]
  },
  {
   "cell_type": "code",
   "execution_count": 147,
   "id": "151df448",
   "metadata": {},
   "outputs": [
    {
     "data": {
      "text/plain": [
       "array([[9, 9, 4, 8],\n",
       "       [8, 1, 5, 3],\n",
       "       [6, 3, 3, 3],\n",
       "       [2, 1, 9, 5],\n",
       "       [1, 7, 3, 5]], dtype=int32)"
      ]
     },
     "execution_count": 147,
     "metadata": {},
     "output_type": "execute_result"
    }
   ],
   "source": [
    "# seed\n",
    "\n",
    "#in 3D shape..using seed function for does not change values of matrix \n",
    "np.random.seed(100)\n",
    "np.random.randint(1,10,(5,4))"
   ]
  },
  {
   "cell_type": "code",
   "execution_count": 148,
   "id": "68f2ab47",
   "metadata": {},
   "outputs": [
    {
     "data": {
      "text/plain": [
       "array([[2, 2, 1, 2],\n",
       "       [1, 2, 2, 1],\n",
       "       [2, 2, 1, 2],\n",
       "       [2, 1, 1, 2],\n",
       "       [1, 1, 1, 1]], dtype=int32)"
      ]
     },
     "execution_count": 148,
     "metadata": {},
     "output_type": "execute_result"
    }
   ],
   "source": [
    "#in 3D shape..using seed function for does not change values of matrix \n",
    "np.random.seed(10)\n",
    "np.random.randint(1,3,(5,4))"
   ]
  },
  {
   "cell_type": "code",
   "execution_count": 149,
   "id": "12c4dc84",
   "metadata": {},
   "outputs": [
    {
     "data": {
      "text/plain": [
       "array([0.68535982, 0.95339335, 0.00394827, 0.51219226, 0.81262096,\n",
       "       0.61252607, 0.72175532, 0.29187607, 0.91777412, 0.71457578])"
      ]
     },
     "execution_count": 149,
     "metadata": {},
     "output_type": "execute_result"
    }
   ],
   "source": [
    "# rand()\n",
    "# it's return value beetween 0 to 1.\n",
    "np.random.rand(10)"
   ]
  },
  {
   "cell_type": "code",
   "execution_count": 150,
   "id": "6aac77b1",
   "metadata": {},
   "outputs": [
    {
     "data": {
      "text/plain": [
       "array([[0.54254437, 0.14217005, 0.37334076],\n",
       "       [0.67413362, 0.44183317, 0.43401399],\n",
       "       [0.61776698, 0.51313824, 0.65039718]])"
      ]
     },
     "execution_count": 150,
     "metadata": {},
     "output_type": "execute_result"
    }
   ],
   "source": [
    "np.random.rand(3,3)"
   ]
  },
  {
   "cell_type": "code",
   "execution_count": 151,
   "id": "793949ac",
   "metadata": {},
   "outputs": [
    {
     "data": {
      "text/plain": [
       "array([[[0.60103895, 0.8052232 , 0.52164715, 0.90864888, 0.31923609],\n",
       "        [0.09045935, 0.30070006, 0.11398436, 0.82868133, 0.04689632],\n",
       "        [0.62628715, 0.54758616, 0.819287  , 0.19894754, 0.8568503 ],\n",
       "        [0.35165264, 0.75464769, 0.29596171, 0.88393648, 0.32551164],\n",
       "        [0.1650159 , 0.39252924, 0.09346037, 0.82110566, 0.15115202],\n",
       "        [0.38411445, 0.94426071, 0.98762547, 0.45630455, 0.82612284],\n",
       "        [0.25137413, 0.59737165, 0.90283176, 0.53455795, 0.59020136],\n",
       "        [0.03928177, 0.35718176, 0.07961309, 0.30545992, 0.33071931],\n",
       "        [0.7738303 , 0.03995921, 0.42949218, 0.31492687, 0.63649114],\n",
       "        [0.34634715, 0.04309736, 0.87991517, 0.76324059, 0.87809664]],\n",
       "\n",
       "       [[0.41750914, 0.60557756, 0.51346663, 0.59783665, 0.26221566],\n",
       "        [0.30087131, 0.02539978, 0.30306256, 0.24207588, 0.55757819],\n",
       "        [0.56550702, 0.47513225, 0.29279798, 0.06425106, 0.97881915],\n",
       "        [0.33970784, 0.49504863, 0.97708073, 0.44077382, 0.31827281],\n",
       "        [0.51979699, 0.57813643, 0.85393375, 0.06809727, 0.46453081],\n",
       "        [0.78194912, 0.71860281, 0.58602198, 0.03709441, 0.35065639],\n",
       "        [0.56319068, 0.29972987, 0.51233415, 0.67346693, 0.15919373],\n",
       "        [0.05047767, 0.33781589, 0.10806377, 0.17890281, 0.8858271 ],\n",
       "        [0.36536497, 0.21876935, 0.75249617, 0.10687958, 0.74460324],\n",
       "        [0.46978529, 0.59825567, 0.14762019, 0.18403482, 0.64507213]],\n",
       "\n",
       "       [[0.04862801, 0.24861251, 0.54240852, 0.22677334, 0.38141153],\n",
       "        [0.92223279, 0.92535687, 0.56674992, 0.53347088, 0.01486002],\n",
       "        [0.97789926, 0.5730289 , 0.791757  , 0.56155736, 0.87733524],\n",
       "        [0.58419583, 0.70884983, 0.14853345, 0.42845074, 0.69389007],\n",
       "        [0.10461974, 0.43960524, 0.16620215, 0.50697863, 0.81903586],\n",
       "        [0.09010673, 0.80006875, 0.56512635, 0.58934771, 0.19810066],\n",
       "        [0.43611826, 0.29590376, 0.03755768, 0.03068484, 0.453105  ],\n",
       "        [0.74486408, 0.55729541, 0.3851136 , 0.1680728 , 0.83826132],\n",
       "        [0.5990518 , 0.78271482, 0.84850918, 0.60316298, 0.78106062],\n",
       "        [0.61573688, 0.02116519, 0.75046461, 0.17604213, 0.45851421]],\n",
       "\n",
       "       [[0.51312271, 0.48402089, 0.84438579, 0.17481389, 0.01463488],\n",
       "        [0.84876407, 0.74267458, 0.45669754, 0.41689841, 0.11672951],\n",
       "        [0.33867913, 0.09465904, 0.71583087, 0.0770854 , 0.20595026],\n",
       "        [0.57377623, 0.29383156, 0.65572674, 0.80356835, 0.3512135 ],\n",
       "        [0.09344038, 0.81331608, 0.78486672, 0.39341911, 0.86447919],\n",
       "        [0.38403077, 0.25730289, 0.82940192, 0.7363827 , 0.50760091],\n",
       "        [0.64432662, 0.21318657, 0.89570895, 0.96594625, 0.31700156],\n",
       "        [0.86555262, 0.31028371, 0.02526395, 0.04919516, 0.18462684],\n",
       "        [0.06903334, 0.25747542, 0.91358173, 0.45784951, 0.13021179],\n",
       "        [0.80989167, 0.40346984, 0.02443264, 0.85683104, 0.27429482]]])"
      ]
     },
     "execution_count": 151,
     "metadata": {},
     "output_type": "execute_result"
    }
   ],
   "source": [
    "np.random.rand(4,10,5)"
   ]
  },
  {
   "cell_type": "code",
   "execution_count": 152,
   "id": "69f965c8",
   "metadata": {},
   "outputs": [
    {
     "data": {
      "text/plain": [
       "array([[-0.93446509,  1.35481799,  0.47683236,  0.40722114],\n",
       "       [ 2.35317471,  1.51925986, -0.29646605, -0.91463494],\n",
       "       [ 0.43245786, -2.74910784, -0.32554195,  0.63834798],\n",
       "       [ 1.2994119 , -0.45883715, -1.25504271, -0.34936824]])"
      ]
     },
     "execution_count": 152,
     "metadata": {},
     "output_type": "execute_result"
    }
   ],
   "source": [
    "# return a samples from the standard normal distribution.\n",
    "np.random.randn(4,4)   "
   ]
  },
  {
   "cell_type": "markdown",
   "id": "618787f0",
   "metadata": {},
   "source": [
    "### String operation, Comparison and Information"
   ]
  },
  {
   "cell_type": "code",
   "execution_count": 153,
   "id": "a44b6d7d",
   "metadata": {},
   "outputs": [],
   "source": [
    "str1 = \"I am a python developer \"\n",
    "str2 = \" I learn new Technology\""
   ]
  },
  {
   "cell_type": "code",
   "execution_count": 154,
   "id": "3237c3a9",
   "metadata": {
    "editable": true,
    "slideshow": {
     "slide_type": ""
    },
    "tags": []
   },
   "outputs": [
    {
     "data": {
      "text/plain": [
       "np.str_('I am a python developer  I learn new Technology')"
      ]
     },
     "execution_count": 154,
     "metadata": {},
     "output_type": "execute_result"
    }
   ],
   "source": [
    "# char.add()\n",
    "\n",
    "np.char.add(str1,str2)"
   ]
  },
  {
   "cell_type": "code",
   "execution_count": 155,
   "id": "c2a09a99",
   "metadata": {},
   "outputs": [
    {
     "data": {
      "text/plain": [
       "array('I am a python developer I am a python developer I am a python developer I am a python developer I am a python developer ',\n",
       "      dtype='<U120')"
      ]
     },
     "execution_count": 155,
     "metadata": {},
     "output_type": "execute_result"
    }
   ],
   "source": [
    "np.char.multiply(str1,5)"
   ]
  },
  {
   "cell_type": "code",
   "execution_count": 156,
   "id": "8ba6ad6e",
   "metadata": {},
   "outputs": [
    {
     "data": {
      "text/plain": [
       "array('i am a python developer ', dtype='<U24')"
      ]
     },
     "execution_count": 156,
     "metadata": {},
     "output_type": "execute_result"
    }
   ],
   "source": [
    "# char.lower()\n",
    "\n",
    "\n",
    "np.char.lower(str1)"
   ]
  },
  {
   "cell_type": "code",
   "execution_count": 157,
   "id": "eb38c324",
   "metadata": {},
   "outputs": [
    {
     "data": {
      "text/plain": [
       "array('I AM A PYTHON DEVELOPER ', dtype='<U24')"
      ]
     },
     "execution_count": 157,
     "metadata": {},
     "output_type": "execute_result"
    }
   ],
   "source": [
    "np.char.upper(str1)"
   ]
  },
  {
   "cell_type": "code",
   "execution_count": 158,
   "id": "e7bf7c81",
   "metadata": {
    "editable": true,
    "slideshow": {
     "slide_type": ""
    },
    "tags": []
   },
   "outputs": [
    {
     "data": {
      "text/plain": [
       "array('             I am a python developer              ', dtype='<U50')"
      ]
     },
     "execution_count": 158,
     "metadata": {},
     "output_type": "execute_result"
    }
   ],
   "source": [
    "# char.center()\n",
    "np.char.center(str1, 50)"
   ]
  },
  {
   "cell_type": "code",
   "execution_count": 159,
   "id": "c991a56d",
   "metadata": {},
   "outputs": [
    {
     "data": {
      "text/plain": [
       "array('########I am a python developer ########', dtype='<U40')"
      ]
     },
     "execution_count": 159,
     "metadata": {},
     "output_type": "execute_result"
    }
   ],
   "source": [
    "np.char.center(str1, 40, fillchar=\"#\")"
   ]
  },
  {
   "cell_type": "code",
   "execution_count": 160,
   "id": "b5b714df",
   "metadata": {},
   "outputs": [
    {
     "data": {
      "text/plain": [
       "array(list(['I ', 'm ', ' python developer ']), dtype=object)"
      ]
     },
     "execution_count": 160,
     "metadata": {},
     "output_type": "execute_result"
    }
   ],
   "source": [
    "# char.split()\n",
    "\n",
    "\n",
    "np.char.split(str1,'a')"
   ]
  },
  {
   "cell_type": "code",
   "execution_count": 161,
   "id": "1c3da540",
   "metadata": {},
   "outputs": [
    {
     "data": {
      "text/plain": [
       "array(list(['hello ', ' world']), dtype=object)"
      ]
     },
     "execution_count": 161,
     "metadata": {},
     "output_type": "execute_result"
    }
   ],
   "source": [
    "np.char.splitlines(\"hello \\n world\")   "
   ]
  },
  {
   "cell_type": "code",
   "execution_count": 162,
   "id": "4e7daa95",
   "metadata": {},
   "outputs": [
    {
     "data": {
      "text/plain": [
       "array(['D:M:Y', 'd/m/y', 'D-m-Y'], dtype='<U5')"
      ]
     },
     "execution_count": 162,
     "metadata": {},
     "output_type": "execute_result"
    }
   ],
   "source": [
    "# char.join()\n",
    "\n",
    "\n",
    "st1 = 'DMY'\n",
    "st2='dmy'\n",
    "st3 = 'DmY'\n",
    "np.char.join([\":\",\"/\",\"-\"], [st1,st2,st3])"
   ]
  },
  {
   "cell_type": "code",
   "execution_count": 163,
   "id": "e61b6712",
   "metadata": {},
   "outputs": [
    {
     "data": {
      "text/plain": [
       "'I am a python developer '"
      ]
     },
     "execution_count": 163,
     "metadata": {},
     "output_type": "execute_result"
    }
   ],
   "source": [
    "#  char.replace()\n",
    "\n",
    "\n",
    "str1"
   ]
  },
  {
   "cell_type": "code",
   "execution_count": 164,
   "id": "777bb419",
   "metadata": {},
   "outputs": [
    {
     "data": {
      "text/plain": [
       "array('I Am A python developer ', dtype='<U24')"
      ]
     },
     "execution_count": 164,
     "metadata": {},
     "output_type": "execute_result"
    }
   ],
   "source": [
    "np.char.replace(str1, \"a\", \"A\")"
   ]
  },
  {
   "cell_type": "code",
   "execution_count": 165,
   "id": "86fb30a9",
   "metadata": {},
   "outputs": [
    {
     "name": "stdout",
     "output_type": "stream",
     "text": [
      "False\n",
      "True\n"
     ]
    }
   ],
   "source": [
    "# char.equal()\n",
    "\n",
    "st1=st2=st3='DMY'\n",
    "st4 = 'hello'\n",
    "\n",
    "print(np.char.equal(st1,st4))\n",
    "print(np.char.equal(st1,st3))"
   ]
  },
  {
   "cell_type": "code",
   "execution_count": 166,
   "id": "38465ef4",
   "metadata": {},
   "outputs": [
    {
     "data": {
      "text/plain": [
       "np.int64(2)"
      ]
     },
     "execution_count": 166,
     "metadata": {},
     "output_type": "execute_result"
    }
   ],
   "source": [
    "# char.count()\n",
    "\n",
    "np.char.count(str1, \"a\")"
   ]
  },
  {
   "cell_type": "code",
   "execution_count": 167,
   "id": "6adc529b",
   "metadata": {},
   "outputs": [
    {
     "data": {
      "text/plain": [
       "np.int64(11)"
      ]
     },
     "execution_count": 167,
     "metadata": {},
     "output_type": "execute_result"
    }
   ],
   "source": [
    "# char.find()\n",
    "\n",
    "np.char.find(str1, \"o\")"
   ]
  },
  {
   "cell_type": "code",
   "execution_count": 168,
   "id": "44a3b510",
   "metadata": {},
   "outputs": [
    {
     "data": {
      "text/plain": [
       "np.int64(11)"
      ]
     },
     "execution_count": 168,
     "metadata": {},
     "output_type": "execute_result"
    }
   ],
   "source": [
    "np.char.index(str1,'o')"
   ]
  },
  {
   "cell_type": "markdown",
   "id": "2ca355af",
   "metadata": {},
   "source": [
    "### BroadCasting"
   ]
  },
  {
   "cell_type": "markdown",
   "id": "a0b66d75-13c0-4c7c-b310-c4fc41a2908d",
   "metadata": {},
   "source": [
    "Broadcasting Rules:\n",
    "\n",
    "1. Make the two arrays have the same number of dimensions.\n",
    "\n",
    "* If the numbers of dimensions of the two arrays are different, add new dimensions with size 1 to the head of the array with the smaller dimension.\n",
    "\n",
    "2. Make each dimension of the two arrays the same size.\n",
    "\n",
    "* If the sizes of each dimension of the two arrays do not match, dimensions with size 1 are stretched to the size of the other array.\n",
    "* If there is a dimension whose size is not 1 in either of the two arrays, it cannot be broadcasted, and an error is raised."
   ]
  },
  {
   "cell_type": "markdown",
   "id": "b1f397c9-44c1-45b9-999f-2add954dc6d1",
   "metadata": {},
   "source": [
    "<img src = \"https://jakevdp.github.io/PythonDataScienceHandbook/figures/02.05-broadcasting.png\">\n"
   ]
  },
  {
   "cell_type": "code",
   "execution_count": 169,
   "id": "89925f3d",
   "metadata": {},
   "outputs": [],
   "source": [
    "a = np.array([0,1,2])\n",
    "b = np.array([5,6,7])"
   ]
  },
  {
   "cell_type": "code",
   "execution_count": 170,
   "id": "a06f1537",
   "metadata": {},
   "outputs": [
    {
     "data": {
      "text/plain": [
       "array([5, 7, 9])"
      ]
     },
     "execution_count": 170,
     "metadata": {},
     "output_type": "execute_result"
    }
   ],
   "source": [
    "a+b"
   ]
  },
  {
   "cell_type": "code",
   "execution_count": 171,
   "id": "2738a918",
   "metadata": {},
   "outputs": [
    {
     "data": {
      "text/plain": [
       "np.int64(8)"
      ]
     },
     "execution_count": 171,
     "metadata": {},
     "output_type": "execute_result"
    }
   ],
   "source": [
    "a[2]+6"
   ]
  },
  {
   "cell_type": "code",
   "execution_count": 172,
   "id": "d678ae00",
   "metadata": {},
   "outputs": [
    {
     "data": {
      "text/plain": [
       "array([[1., 1., 1.],\n",
       "       [1., 1., 1.],\n",
       "       [1., 1., 1.]])"
      ]
     },
     "execution_count": 172,
     "metadata": {},
     "output_type": "execute_result"
    }
   ],
   "source": [
    "c = np.ones((3,3))\n",
    "c"
   ]
  },
  {
   "cell_type": "code",
   "execution_count": 173,
   "id": "476bf6f8",
   "metadata": {},
   "outputs": [
    {
     "data": {
      "text/plain": [
       "array([0, 1, 2])"
      ]
     },
     "execution_count": 173,
     "metadata": {},
     "output_type": "execute_result"
    }
   ],
   "source": [
    "a"
   ]
  },
  {
   "cell_type": "code",
   "execution_count": 174,
   "id": "827f2691",
   "metadata": {},
   "outputs": [
    {
     "data": {
      "text/plain": [
       "(1, 2)"
      ]
     },
     "execution_count": 174,
     "metadata": {},
     "output_type": "execute_result"
    }
   ],
   "source": [
    "a.ndim, c.ndim"
   ]
  },
  {
   "cell_type": "code",
   "execution_count": 175,
   "id": "2e37f44f",
   "metadata": {},
   "outputs": [
    {
     "data": {
      "text/plain": [
       "((3,), (3, 3))"
      ]
     },
     "execution_count": 175,
     "metadata": {},
     "output_type": "execute_result"
    }
   ],
   "source": [
    "a.shape, c.shape"
   ]
  },
  {
   "cell_type": "code",
   "execution_count": 176,
   "id": "53f9a4a3",
   "metadata": {},
   "outputs": [
    {
     "data": {
      "text/plain": [
       "array([[1., 2., 3.],\n",
       "       [1., 2., 3.],\n",
       "       [1., 2., 3.]])"
      ]
     },
     "execution_count": 176,
     "metadata": {},
     "output_type": "execute_result"
    }
   ],
   "source": [
    "a+c"
   ]
  },
  {
   "cell_type": "code",
   "execution_count": 177,
   "id": "4221c869",
   "metadata": {},
   "outputs": [
    {
     "name": "stdout",
     "output_type": "stream",
     "text": [
      "[[1. 1.]\n",
      " [1. 1.]\n",
      " [1. 1.]]\n",
      "\n",
      "[[1. 1. 1.]\n",
      " [1. 1. 1.]]\n"
     ]
    }
   ],
   "source": [
    "#columns shape not same\n",
    "d= np.ones((3,2))\n",
    "print(d)\n",
    "print('')\n",
    "print(d.T)"
   ]
  },
  {
   "cell_type": "code",
   "execution_count": 178,
   "id": "93baff56",
   "metadata": {},
   "outputs": [
    {
     "data": {
      "text/plain": [
       "array([0, 1, 2])"
      ]
     },
     "execution_count": 178,
     "metadata": {},
     "output_type": "execute_result"
    }
   ],
   "source": [
    "a"
   ]
  },
  {
   "cell_type": "code",
   "execution_count": 179,
   "id": "956b8836-f6ea-4307-b74a-d96dd9ad6cbe",
   "metadata": {},
   "outputs": [
    {
     "data": {
      "text/plain": [
       "array([[1., 1.],\n",
       "       [1., 1.],\n",
       "       [1., 1.]])"
      ]
     },
     "execution_count": 179,
     "metadata": {},
     "output_type": "execute_result"
    }
   ],
   "source": [
    "d"
   ]
  },
  {
   "cell_type": "code",
   "execution_count": 180,
   "id": "59e2931b-e4af-4016-8453-7db205f6a2d0",
   "metadata": {},
   "outputs": [
    {
     "data": {
      "text/plain": [
       "((3,), (3, 2))"
      ]
     },
     "execution_count": 180,
     "metadata": {},
     "output_type": "execute_result"
    }
   ],
   "source": [
    "a.shape,d.shape"
   ]
  },
  {
   "cell_type": "code",
   "execution_count": 181,
   "id": "0ae184cc-c927-4a98-91f1-a8e3b1fb636f",
   "metadata": {},
   "outputs": [
    {
     "name": "stdout",
     "output_type": "stream",
     "text": [
      "[0 1 2]\n",
      "\n",
      "[[1. 1.]\n",
      " [1. 1.]\n",
      " [1. 1.]]\n",
      "\n",
      "[[1. 1. 1.]\n",
      " [1. 1. 1.]]\n"
     ]
    }
   ],
   "source": [
    "print(a)\n",
    "print('')\n",
    "print(d)\n",
    "print('')\n",
    "print(d.T)"
   ]
  },
  {
   "cell_type": "code",
   "execution_count": 182,
   "id": "efd428f3-8083-4877-b9da-0c87d3b81a00",
   "metadata": {},
   "outputs": [
    {
     "data": {
      "text/plain": [
       "((3,), (2, 3))"
      ]
     },
     "execution_count": 182,
     "metadata": {},
     "output_type": "execute_result"
    }
   ],
   "source": [
    "a.shape,d.T.shape"
   ]
  },
  {
   "cell_type": "code",
   "execution_count": 183,
   "id": "4cd7d2f0",
   "metadata": {},
   "outputs": [
    {
     "data": {
      "text/plain": [
       "array([[1., 2., 3.],\n",
       "       [1., 2., 3.]])"
      ]
     },
     "execution_count": 183,
     "metadata": {},
     "output_type": "execute_result"
    }
   ],
   "source": [
    "a+d.T"
   ]
  },
  {
   "cell_type": "code",
   "execution_count": 184,
   "id": "ad072572",
   "metadata": {},
   "outputs": [
    {
     "data": {
      "text/plain": [
       "array([[1., 1., 1.],\n",
       "       [1., 1., 1.]])"
      ]
     },
     "execution_count": 184,
     "metadata": {},
     "output_type": "execute_result"
    }
   ],
   "source": [
    "#columns shape same \n",
    "d= np.ones((2,3))\n",
    "d"
   ]
  },
  {
   "cell_type": "code",
   "execution_count": 185,
   "id": "d0ac1b20",
   "metadata": {},
   "outputs": [],
   "source": [
    "#Broadcasting with 2d"
   ]
  },
  {
   "cell_type": "code",
   "execution_count": 186,
   "id": "e9f1eb35",
   "metadata": {},
   "outputs": [
    {
     "data": {
      "text/plain": [
       "array([[1., 1., 1.],\n",
       "       [1., 1., 1.],\n",
       "       [1., 1., 1.]])"
      ]
     },
     "execution_count": 186,
     "metadata": {},
     "output_type": "execute_result"
    }
   ],
   "source": [
    "c"
   ]
  },
  {
   "cell_type": "code",
   "execution_count": 187,
   "id": "262467d1",
   "metadata": {},
   "outputs": [
    {
     "data": {
      "text/plain": [
       "array([[1., 1., 1.],\n",
       "       [1., 1., 1.]])"
      ]
     },
     "execution_count": 187,
     "metadata": {},
     "output_type": "execute_result"
    }
   ],
   "source": [
    "d"
   ]
  },
  {
   "cell_type": "code",
   "execution_count": 192,
   "id": "6c8f78be",
   "metadata": {},
   "outputs": [
    {
     "data": {
      "text/plain": [
       "(2, 2)"
      ]
     },
     "execution_count": 192,
     "metadata": {},
     "output_type": "execute_result"
    }
   ],
   "source": [
    "c.ndim, d.ndim"
   ]
  },
  {
   "cell_type": "code",
   "execution_count": 193,
   "id": "4b1df02d",
   "metadata": {},
   "outputs": [
    {
     "data": {
      "text/plain": [
       "((3, 3), (2, 3))"
      ]
     },
     "execution_count": 193,
     "metadata": {},
     "output_type": "execute_result"
    }
   ],
   "source": [
    "c.shape, d.shape"
   ]
  },
  {
   "cell_type": "code",
   "execution_count": null,
   "id": "b114d9e3",
   "metadata": {},
   "outputs": [],
   "source": [
    "c"
   ]
  },
  {
   "cell_type": "code",
   "execution_count": null,
   "id": "711cf8d7",
   "metadata": {},
   "outputs": [],
   "source": [
    "#transpose in 3,2\n",
    "d.T"
   ]
  },
  {
   "cell_type": "code",
   "execution_count": null,
   "id": "24b540e9-7ac6-4388-9a78-213011a711a1",
   "metadata": {},
   "outputs": [],
   "source": [
    "c.shape,d.T.shape"
   ]
  },
  {
   "cell_type": "code",
   "execution_count": null,
   "id": "c0361dda",
   "metadata": {},
   "outputs": [],
   "source": [
    "c+(d.T)"
   ]
  },
  {
   "cell_type": "code",
   "execution_count": null,
   "id": "e417facf-5ea3-4980-8276-ca1cf606ee7b",
   "metadata": {},
   "outputs": [],
   "source": [
    "c*d"
   ]
  },
  {
   "cell_type": "code",
   "execution_count": null,
   "id": "24a2ca77",
   "metadata": {
    "editable": true,
    "slideshow": {
     "slide_type": ""
    },
    "tags": []
   },
   "outputs": [],
   "source": [
    "#shape same\n",
    "e = np.ones((3,3))\n",
    "e"
   ]
  },
  {
   "cell_type": "code",
   "execution_count": null,
   "id": "b6198694",
   "metadata": {},
   "outputs": [],
   "source": [
    "c"
   ]
  },
  {
   "cell_type": "code",
   "execution_count": null,
   "id": "6dc24fa5",
   "metadata": {},
   "outputs": [],
   "source": [
    "c+e"
   ]
  },
  {
   "cell_type": "code",
   "execution_count": null,
   "id": "8f0962a7",
   "metadata": {},
   "outputs": [],
   "source": [
    "#Broadcasting in 3D : 1d + 3d\n",
    "d3 = np.arange(1,9).reshape(2,2,2)\n",
    "d3"
   ]
  },
  {
   "cell_type": "code",
   "execution_count": null,
   "id": "4977a1ca",
   "metadata": {},
   "outputs": [],
   "source": [
    "d1 = np.array([10,20])\n",
    "d1"
   ]
  },
  {
   "cell_type": "code",
   "execution_count": null,
   "id": "f4a98e08-80a0-417a-9fd6-a8edc3246f9d",
   "metadata": {},
   "outputs": [],
   "source": [
    "d3.shape,d1.shape"
   ]
  },
  {
   "cell_type": "code",
   "execution_count": null,
   "id": "3af95b2a",
   "metadata": {},
   "outputs": [],
   "source": [
    "d3+d1"
   ]
  },
  {
   "cell_type": "code",
   "execution_count": null,
   "id": "ebebafff",
   "metadata": {},
   "outputs": [],
   "source": [
    "# 2d + 3d\n",
    "d2 = np.arange(1,5).reshape(2,2)\n",
    "d2"
   ]
  },
  {
   "cell_type": "code",
   "execution_count": null,
   "id": "b3710645-6954-46ff-942c-5a6564fe3de6",
   "metadata": {},
   "outputs": [],
   "source": [
    "print(d2.shape,d3.shape)\n",
    "print(d2.ndim,d3.ndim)"
   ]
  },
  {
   "cell_type": "code",
   "execution_count": null,
   "id": "081447db",
   "metadata": {},
   "outputs": [],
   "source": [
    "d3"
   ]
  },
  {
   "cell_type": "code",
   "execution_count": null,
   "id": "3d49a77b",
   "metadata": {},
   "outputs": [],
   "source": [
    "d3+d2"
   ]
  },
  {
   "cell_type": "code",
   "execution_count": null,
   "id": "84ed3738",
   "metadata": {},
   "outputs": [],
   "source": [
    "#shape not same\n",
    "d2 = np.arange(1,5).reshape(4,1)\n",
    "d2"
   ]
  },
  {
   "cell_type": "code",
   "execution_count": null,
   "id": "885253ae",
   "metadata": {},
   "outputs": [],
   "source": [
    "d3"
   ]
  },
  {
   "cell_type": "code",
   "execution_count": null,
   "id": "b4fdf5cc",
   "metadata": {},
   "outputs": [],
   "source": [
    "d2+d3"
   ]
  },
  {
   "cell_type": "code",
   "execution_count": 189,
   "id": "bd771123",
   "metadata": {},
   "outputs": [],
   "source": [
    "import numpy as np\n",
    "import pandas as pd"
   ]
  },
  {
   "cell_type": "code",
   "execution_count": null,
   "id": "c0b03f31",
   "metadata": {},
   "outputs": [],
   "source": [
    "demo= pd.read_csv(\"\")"
   ]
  },
  {
   "cell_type": "code",
   "execution_count": null,
   "id": "466e9d00",
   "metadata": {},
   "outputs": [],
   "source": []
  },
  {
   "cell_type": "code",
   "execution_count": null,
   "id": "c905a93e",
   "metadata": {},
   "outputs": [],
   "source": []
  },
  {
   "cell_type": "code",
   "execution_count": null,
   "id": "1916849a",
   "metadata": {},
   "outputs": [],
   "source": []
  },
  {
   "cell_type": "code",
   "execution_count": null,
   "id": "95be3573",
   "metadata": {},
   "outputs": [],
   "source": []
  },
  {
   "cell_type": "code",
   "execution_count": null,
   "id": "4609c4a6-25ad-41c6-8b42-5e114cfa760e",
   "metadata": {},
   "outputs": [],
   "source": []
  },
  {
   "cell_type": "code",
   "execution_count": null,
   "id": "ae826da6-9ea8-4d50-9e28-947af0f4d19c",
   "metadata": {},
   "outputs": [],
   "source": []
  },
  {
   "cell_type": "code",
   "execution_count": null,
   "id": "c22fc976-d614-4963-8cf3-60d48470f11a",
   "metadata": {},
   "outputs": [],
   "source": []
  }
 ],
 "metadata": {
  "kernelspec": {
   "display_name": "Python 3 (ipykernel)",
   "language": "python",
   "name": "python3"
  },
  "language_info": {
   "codemirror_mode": {
    "name": "ipython",
    "version": 3
   },
   "file_extension": ".py",
   "mimetype": "text/x-python",
   "name": "python",
   "nbconvert_exporter": "python",
   "pygments_lexer": "ipython3",
   "version": "3.12.4"
  }
 },
 "nbformat": 4,
 "nbformat_minor": 5
}
